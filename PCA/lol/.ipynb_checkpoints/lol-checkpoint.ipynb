{
 "cells": [
  {
   "cell_type": "code",
   "execution_count": 1,
   "metadata": {},
   "outputs": [],
   "source": [
    "import pandas as pd\n",
    "import numpy as np\n",
    "import matplotlib.pyplot as plt\n",
    "from sklearn.preprocessing import StandardScaler"
   ]
  },
  {
   "cell_type": "code",
   "execution_count": 2,
   "metadata": {},
   "outputs": [],
   "source": [
    "df = pd.read_csv(\"https://bit.ly/2FkIaTv\", sep=\"\\t\", index_col=\"名稱\")"
   ]
  },
  {
   "cell_type": "code",
   "execution_count": 4,
   "metadata": {},
   "outputs": [
    {
     "name": "stdout",
     "output_type": "stream",
     "text": [
      "前五名英雄數據：\n"
     ]
    },
    {
     "data": {
      "text/html": [
       "<div>\n",
       "<style scoped>\n",
       "    .dataframe tbody tr th:only-of-type {\n",
       "        vertical-align: middle;\n",
       "    }\n",
       "\n",
       "    .dataframe tbody tr th {\n",
       "        vertical-align: top;\n",
       "    }\n",
       "\n",
       "    .dataframe thead th {\n",
       "        text-align: right;\n",
       "    }\n",
       "</style>\n",
       "<table border=\"1\" class=\"dataframe\">\n",
       "  <thead>\n",
       "    <tr style=\"text-align: right;\">\n",
       "      <th></th>\n",
       "      <th>類型</th>\n",
       "      <th>攻擊距離</th>\n",
       "      <th>魔力</th>\n",
       "      <th>魔力回復</th>\n",
       "      <th>魔力提升</th>\n",
       "      <th>生命提升</th>\n",
       "      <th>生命</th>\n",
       "      <th>生命回復</th>\n",
       "      <th>移動速度</th>\n",
       "      <th>物理攻擊</th>\n",
       "      <th>物理防禦</th>\n",
       "      <th>魔法防禦</th>\n",
       "    </tr>\n",
       "    <tr>\n",
       "      <th>名稱</th>\n",
       "      <th></th>\n",
       "      <th></th>\n",
       "      <th></th>\n",
       "      <th></th>\n",
       "      <th></th>\n",
       "      <th></th>\n",
       "      <th></th>\n",
       "      <th></th>\n",
       "      <th></th>\n",
       "      <th></th>\n",
       "      <th></th>\n",
       "      <th></th>\n",
       "    </tr>\n",
       "  </thead>\n",
       "  <tbody>\n",
       "    <tr>\n",
       "      <th>厄薩斯</th>\n",
       "      <td>鬥士</td>\n",
       "      <td>175</td>\n",
       "      <td>0</td>\n",
       "      <td>0.0</td>\n",
       "      <td>0</td>\n",
       "      <td>90</td>\n",
       "      <td>580.0</td>\n",
       "      <td>3.0</td>\n",
       "      <td>345</td>\n",
       "      <td>60.0</td>\n",
       "      <td>38.0</td>\n",
       "      <td>32.1</td>\n",
       "    </tr>\n",
       "    <tr>\n",
       "      <th>阿璃</th>\n",
       "      <td>法師</td>\n",
       "      <td>550</td>\n",
       "      <td>418</td>\n",
       "      <td>0.8</td>\n",
       "      <td>25</td>\n",
       "      <td>92</td>\n",
       "      <td>526.0</td>\n",
       "      <td>6.5</td>\n",
       "      <td>330</td>\n",
       "      <td>53.0</td>\n",
       "      <td>20.9</td>\n",
       "      <td>30.0</td>\n",
       "    </tr>\n",
       "    <tr>\n",
       "      <th>阿卡莉</th>\n",
       "      <td>刺客</td>\n",
       "      <td>125</td>\n",
       "      <td>200</td>\n",
       "      <td>0.0</td>\n",
       "      <td>0</td>\n",
       "      <td>95</td>\n",
       "      <td>575.0</td>\n",
       "      <td>8.0</td>\n",
       "      <td>345</td>\n",
       "      <td>62.4</td>\n",
       "      <td>23.0</td>\n",
       "      <td>37.0</td>\n",
       "    </tr>\n",
       "    <tr>\n",
       "      <th>亞歷斯塔</th>\n",
       "      <td>坦克</td>\n",
       "      <td>125</td>\n",
       "      <td>350</td>\n",
       "      <td>0.8</td>\n",
       "      <td>40</td>\n",
       "      <td>106</td>\n",
       "      <td>573.4</td>\n",
       "      <td>8.5</td>\n",
       "      <td>330</td>\n",
       "      <td>61.1</td>\n",
       "      <td>44.0</td>\n",
       "      <td>32.1</td>\n",
       "    </tr>\n",
       "    <tr>\n",
       "      <th>阿姆姆</th>\n",
       "      <td>坦克</td>\n",
       "      <td>125</td>\n",
       "      <td>287</td>\n",
       "      <td>0.5</td>\n",
       "      <td>40</td>\n",
       "      <td>84</td>\n",
       "      <td>613.1</td>\n",
       "      <td>9.0</td>\n",
       "      <td>335</td>\n",
       "      <td>53.4</td>\n",
       "      <td>33.0</td>\n",
       "      <td>32.1</td>\n",
       "    </tr>\n",
       "  </tbody>\n",
       "</table>\n",
       "</div>"
      ],
      "text/plain": [
       "      類型  攻擊距離   魔力  魔力回復  魔力提升  生命提升     生命  生命回復  移動速度  物理攻擊  物理防禦  魔法防禦\n",
       "名稱                                                                        \n",
       "厄薩斯   鬥士   175    0   0.0     0    90  580.0   3.0   345  60.0  38.0  32.1\n",
       "阿璃    法師   550  418   0.8    25    92  526.0   6.5   330  53.0  20.9  30.0\n",
       "阿卡莉   刺客   125  200   0.0     0    95  575.0   8.0   345  62.4  23.0  37.0\n",
       "亞歷斯塔  坦克   125  350   0.8    40   106  573.4   8.5   330  61.1  44.0  32.1\n",
       "阿姆姆   坦克   125  287   0.5    40    84  613.1   9.0   335  53.4  33.0  32.1"
      ]
     },
     "metadata": {},
     "output_type": "display_data"
    }
   ],
   "source": [
    "print(\"前五名英雄數據：\")\n",
    "display(df.head(5))"
   ]
  },
  {
   "cell_type": "code",
   "execution_count": 9,
   "metadata": {},
   "outputs": [
    {
     "data": {
      "text/html": [
       "<style  type=\"text/css\" >\n",
       "</style><table id=\"T_540d6696_bb0d_11eb_92f1_1e00d90a4635\" ><thead>    <tr>        <th class=\"blank level0\" ></th>        <th class=\"col_heading level0 col0\" >攻擊距離</th>        <th class=\"col_heading level0 col1\" >魔力</th>        <th class=\"col_heading level0 col2\" >魔力回復</th>        <th class=\"col_heading level0 col3\" >魔力提升</th>        <th class=\"col_heading level0 col4\" >生命提升</th>        <th class=\"col_heading level0 col5\" >生命</th>        <th class=\"col_heading level0 col6\" >生命回復</th>        <th class=\"col_heading level0 col7\" >移動速度</th>        <th class=\"col_heading level0 col8\" >物理攻擊</th>        <th class=\"col_heading level0 col9\" >物理防禦</th>        <th class=\"col_heading level0 col10\" >魔法防禦</th>    </tr></thead><tbody>\n",
       "                <tr>\n",
       "                        <th id=\"T_540d6696_bb0d_11eb_92f1_1e00d90a4635level0_row0\" class=\"row_heading level0 row0\" >mean</th>\n",
       "                        <td id=\"T_540d6696_bb0d_11eb_92f1_1e00d90a4635row0_col0\" class=\"data row0 col0\" >326.39</td>\n",
       "                        <td id=\"T_540d6696_bb0d_11eb_92f1_1e00d90a4635row0_col1\" class=\"data row0 col1\" >309.66</td>\n",
       "                        <td id=\"T_540d6696_bb0d_11eb_92f1_1e00d90a4635row0_col2\" class=\"data row0 col2\" >0.57</td>\n",
       "                        <td id=\"T_540d6696_bb0d_11eb_92f1_1e00d90a4635row0_col3\" class=\"data row0 col3\" >33.03</td>\n",
       "                        <td id=\"T_540d6696_bb0d_11eb_92f1_1e00d90a4635row0_col4\" class=\"data row0 col4\" >88.52</td>\n",
       "                        <td id=\"T_540d6696_bb0d_11eb_92f1_1e00d90a4635row0_col5\" class=\"data row0 col5\" >555.83</td>\n",
       "                        <td id=\"T_540d6696_bb0d_11eb_92f1_1e00d90a4635row0_col6\" class=\"data row0 col6\" >6.60</td>\n",
       "                        <td id=\"T_540d6696_bb0d_11eb_92f1_1e00d90a4635row0_col7\" class=\"data row0 col7\" >336.31</td>\n",
       "                        <td id=\"T_540d6696_bb0d_11eb_92f1_1e00d90a4635row0_col8\" class=\"data row0 col8\" >59.37</td>\n",
       "                        <td id=\"T_540d6696_bb0d_11eb_92f1_1e00d90a4635row0_col9\" class=\"data row0 col9\" >30.06</td>\n",
       "                        <td id=\"T_540d6696_bb0d_11eb_92f1_1e00d90a4635row0_col10\" class=\"data row0 col10\" >31.13</td>\n",
       "            </tr>\n",
       "            <tr>\n",
       "                        <th id=\"T_540d6696_bb0d_11eb_92f1_1e00d90a4635level0_row1\" class=\"row_heading level0 row1\" >std</th>\n",
       "                        <td id=\"T_540d6696_bb0d_11eb_92f1_1e00d90a4635row1_col0\" class=\"data row1 col0\" >196.52</td>\n",
       "                        <td id=\"T_540d6696_bb0d_11eb_92f1_1e00d90a4635row1_col1\" class=\"data row1 col1\" >115.40</td>\n",
       "                        <td id=\"T_540d6696_bb0d_11eb_92f1_1e00d90a4635row1_col2\" class=\"data row1 col2\" >0.28</td>\n",
       "                        <td id=\"T_540d6696_bb0d_11eb_92f1_1e00d90a4635row1_col3\" class=\"data row1 col3\" >16.62</td>\n",
       "                        <td id=\"T_540d6696_bb0d_11eb_92f1_1e00d90a4635row1_col4\" class=\"data row1 col4\" >6.65</td>\n",
       "                        <td id=\"T_540d6696_bb0d_11eb_92f1_1e00d90a4635row1_col5\" class=\"data row1 col5\" >37.33</td>\n",
       "                        <td id=\"T_540d6696_bb0d_11eb_92f1_1e00d90a4635row1_col6\" class=\"data row1 col6\" >1.78</td>\n",
       "                        <td id=\"T_540d6696_bb0d_11eb_92f1_1e00d90a4635row1_col7\" class=\"data row1 col7\" >7.56</td>\n",
       "                        <td id=\"T_540d6696_bb0d_11eb_92f1_1e00d90a4635row1_col8\" class=\"data row1 col8\" >6.17</td>\n",
       "                        <td id=\"T_540d6696_bb0d_11eb_92f1_1e00d90a4635row1_col9\" class=\"data row1 col9\" >6.72</td>\n",
       "                        <td id=\"T_540d6696_bb0d_11eb_92f1_1e00d90a4635row1_col10\" class=\"data row1 col10\" >1.71</td>\n",
       "            </tr>\n",
       "    </tbody></table>"
      ],
      "text/plain": [
       "<pandas.io.formats.style.Styler at 0x7fda08031610>"
      ]
     },
     "execution_count": 9,
     "metadata": {},
     "output_type": "execute_result"
    }
   ],
   "source": [
    "df.describe().loc['mean':'std',:].style.format(\"{:.2f}\")"
   ]
  },
  {
   "cell_type": "code",
   "execution_count": null,
   "metadata": {},
   "outputs": [],
   "source": []
  }
 ],
 "metadata": {
  "kernelspec": {
   "display_name": "Python 3",
   "language": "python",
   "name": "python3"
  },
  "language_info": {
   "codemirror_mode": {
    "name": "ipython",
    "version": 3
   },
   "file_extension": ".py",
   "mimetype": "text/x-python",
   "name": "python",
   "nbconvert_exporter": "python",
   "pygments_lexer": "ipython3",
   "version": "3.8.5"
  }
 },
 "nbformat": 4,
 "nbformat_minor": 4
}
