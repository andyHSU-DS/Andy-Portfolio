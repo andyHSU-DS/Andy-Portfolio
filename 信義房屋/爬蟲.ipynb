{
 "cells": [
  {
   "cell_type": "code",
   "execution_count": 713,
   "metadata": {},
   "outputs": [],
   "source": [
    "import pandas as pd\n",
    "\n",
    "import requests\n",
    "import bs4\n",
    "\n",
    "import re\n",
    "import time\n",
    "\n",
    "import warnings\n",
    "warnings.filterwarnings('ignore')\n",
    "\n",
    "from selenium import webdriver\n",
    "from selenium.webdriver.support.ui import Select\n",
    "from selenium.webdriver.common.keys import Keys\n",
    "from selenium.webdriver.support.ui import WebDriverWait\n",
    "from selenium.webdriver.support import expected_conditions as EC\n",
    "from selenium.webdriver.common.by import By\n",
    "from selenium.webdriver.chrome.options import Options\n",
    "\n",
    "import pymysql\n",
    "\n",
    "from tqdm import tqdm\n",
    "\n",
    "from datetime import datetime\n",
    "\n",
    "import threading\n",
    "from queue import Queue\n",
    " \n",
    "import os"
   ]
  },
  {
   "cell_type": "code",
   "execution_count": 328,
   "metadata": {},
   "outputs": [],
   "source": [
    "import plotly\n",
    "import plotly.express as px\n",
    "import plotly.graph_objects as go\n",
    "import plotly.io as pio\n",
    "pio.renderers.default = 'notebook'\n",
    "from plotly.subplots import make_subplots"
   ]
  },
  {
   "cell_type": "code",
   "execution_count": 442,
   "metadata": {},
   "outputs": [
    {
     "data": {
      "text/plain": [
       "'2022/6'"
      ]
     },
     "execution_count": 442,
     "metadata": {},
     "output_type": "execute_result"
    }
   ],
   "source": [
    "str(datetime.today().year) +'/'+ str(datetime.today().month)"
   ]
  },
  {
   "cell_type": "markdown",
   "metadata": {},
   "source": [
    "# Function to get page of hisnyi & 永慶"
   ]
  },
  {
   "cell_type": "code",
   "execution_count": 443,
   "metadata": {},
   "outputs": [],
   "source": [
    "def get_page_永慶():\n",
    "    path   = r'/Users/andyhsu/Documents/GitHub/Andy-Portfolio/信義房屋/chromedriver'\n",
    "    driver = webdriver.Chrome(path)\n",
    "    website = r'https://buy.yungching.com.tw/region/%E4%BD%8F%E5%AE%85_p/%E5%8F%B0%E5%8C%97%E5%B8%82-_c/_rm/?pg=1'\n",
    "\n",
    "    #這邊之後改成顯示等待\n",
    "    driver.get(website)\n",
    "    WebDriverWait(driver,10).until(EC.visibility_of_element_located((By.XPATH,'/html/body/main/div[2]/div[4]/ul')))\n",
    "    分頁選單      = driver.find_element_by_xpath('//ul[@class=\"m-pagination-bd\"]')\n",
    "    總頁數        = 分頁選單.find_elements_by_xpath('./li')[-1]\n",
    "    最後一頁_href = re.search(r'\\d+\\Z',總頁數.find_element_by_xpath('./a').get_attribute('href'))\n",
    "    print(最後一頁_href[0])\n",
    "    driver.close()\n",
    "    #以上是幫助我確認有多少分頁\n",
    "    return 最後一頁_href[0]\n"
   ]
  },
  {
   "cell_type": "code",
   "execution_count": 448,
   "metadata": {},
   "outputs": [],
   "source": [
    "def get_page_信義():\n",
    "    path   = r'/Users/andyhsu/Documents/GitHub/Andy-Portfolio/信義房屋/chromedriver'\n",
    "    driver = webdriver.Chrome(path)\n",
    "    website = r'https://www.sinyi.com.tw/buy/list/Taipei-city/Taipei-R-mrtline/03-mrt/default-desc/index'\n",
    "\n",
    "    #這邊之後改成顯示等待\n",
    "    driver.get(website)\n",
    "    time.sleep(3)\n",
    "    #WebDriverWait(driver,10).until(EC.visibility_of_element_located((By.XPATH,'//*[@id=\"__next\"]/div/div/span/div[4]/div/div/div[3]/div[2]/div[2]/div[21]')))\n",
    "    分頁選單      = driver.find_element_by_xpath('//ul[@class=\"pagination\"]')\n",
    "    總頁數        = 分頁選單.find_elements_by_xpath('./li')[-2]\n",
    "    最後一頁_href = 總頁數.text\n",
    "    print(最後一頁_href)\n",
    "    driver.close()\n",
    "    return 最後一頁_href"
   ]
  },
  {
   "cell_type": "code",
   "execution_count": 371,
   "metadata": {},
   "outputs": [
    {
     "name": "stdout",
     "output_type": "stream",
     "text": [
      "146\n"
     ]
    }
   ],
   "source": [
    "#得到頁數\n",
    "page_num      = get_page_永慶()\n",
    "page_url_list = []\n",
    "singe_page_website = r'https://buy.yungching.com.tw/region/%E4%BD%8F%E5%AE%85_p/%E5%8F%B0%E5%8C%97%E5%B8%82-_c/_rm/?pg='\n",
    "for p in range(1,int(page_num)+1):\n",
    "    page_url_list.append(singe_page_website+str(p))"
   ]
  },
  {
   "cell_type": "code",
   "execution_count": 444,
   "metadata": {},
   "outputs": [
    {
     "name": "stdout",
     "output_type": "stream",
     "text": [
      "<selenium.webdriver.remote.webelement.WebElement (session=\"b983b45ed02ee4768669dd5b099c8bfb\", element=\"3129ca2d-046a-4b02-9112-81b2f7a23f77\")>\n",
      "382\n"
     ]
    }
   ],
   "source": [
    "page_num_hisnyi = get_page_信義()\n",
    "page_url_list_hisnyi = []\n",
    "singe_page_website_hisnyi = r'https://www.sinyi.com.tw/buy/list/Taipei-city/Taipei-R-mrtline/03-mrt/default-desc/'\n",
    "for p in range(1,int(page_num_hisnyi)+1):\n",
    "    page_url_list_hisnyi.append(singe_page_website_hisnyi+str(p))"
   ]
  },
  {
   "cell_type": "markdown",
   "metadata": {},
   "source": [
    "# create a function to collect one page infos of 永慶 and hsinyi"
   ]
  },
  {
   "cell_type": "code",
   "execution_count": 529,
   "metadata": {},
   "outputs": [],
   "source": [
    "def get_all_page_info_hsinyi(q,串列):\n",
    "    Price_Month = str(datetime.today().year) +'_'+ str(datetime.today().month) + '_Price'\n",
    "    def get_page_info_hsinyi(url = 'https://www.sinyi.com.tw/buy/list/Taipei-city/Taipei-R-mrtline/03-mrt/default-desc/1'):\n",
    "        path   = r'/Users/andyhsu/Documents/GitHub/Andy-Portfolio/信義房屋/chromedriver'\n",
    "        options = webdriver.ChromeOptions()\n",
    "        prefs = {\n",
    "        'profile.default_content_setting_values' :\n",
    "            {\n",
    "            'notifications' : 2\n",
    "            }\n",
    "        }\n",
    "        options.add_experimental_option('prefs',prefs)\n",
    "        driver = webdriver.Chrome(path,chrome_options=options)\n",
    "        website = url\n",
    "\n",
    "        #這邊之後改成顯示等待\n",
    "        driver.get(website)\n",
    "        time.sleep(3)\n",
    "        #WebDriverWait(driver, 20).until(EC.frame_to_be_available_and_switch_to_it((By.CSS_SELECTOR,\"iframeCssSelector\")))\n",
    "        #WebDriverWait(driver,10).until(EC.visibility_of_element_located((By.XPATH,'//*[@id=\"__next\"]/div/div/span/div[4]/div/div/div[3]/div[2]/div[2]/div[21]')))\n",
    "        房屋列表      = driver.find_element_by_xpath('//div[@class=\"buy-list-frame\"]')\n",
    "        單一房屋_all  = 房屋列表.find_elements_by_xpath('./div[@class=\"buy-list-item \"]')\n",
    "        one_page_house_info = []\n",
    "        for 單一房屋 in 單一房屋_all:\n",
    "            house_href    = 單一房屋.find_element_by_xpath('./a').get_attribute('href')\n",
    "            house_detail  = 單一房屋.find_element_by_xpath('./a/div/div[@class=\"LongInfoCard_Type\"]/div[@class=\"LongInfoCard_TypeWeb\"]')\n",
    "            house_left    = house_detail.find_element_by_xpath('./div[@class=\"LongInfoCard_Type_Left\"]')\n",
    "            #print(house_left)\n",
    "            house_title   = house_left.find_element_by_xpath('./div[@class=\"LongInfoCard_Type_Name\"]').text\n",
    "            house_address = house_left.find_elements_by_xpath('./div[@class=\"LongInfoCard_Type_Address\"]/span')[0].text\n",
    "            house_age     = house_left.find_elements_by_xpath('./div[@class=\"LongInfoCard_Type_Address\"]/span')[1].text\n",
    "            house_type    = house_left.find_elements_by_xpath('./div[@class=\"LongInfoCard_Type_Address\"]/span')[2].text\n",
    "            house_建坪    = house_left.find_elements_by_xpath('./div[@class=\"LongInfoCard_Type_HouseInfo\"]/span')[0].text\n",
    "            house_主陽    = house_left.find_elements_by_xpath('./div[@class=\"LongInfoCard_Type_HouseInfo\"]/span')[1].text\n",
    "            house_格局    = house_left.find_elements_by_xpath('./div[@class=\"LongInfoCard_Type_HouseInfo\"]/span')[2].text\n",
    "            house_floor  = house_left.find_elements_by_xpath('./div[@class=\"LongInfoCard_Type_HouseInfo\"]/span')[3].text\n",
    "            house_車位    = house_left.find_element_by_xpath('./span[@class=\"LongInfoCard_Type_Parking\"]').text\n",
    "\n",
    "            #只跟價格有關\n",
    "            house_right   = house_detail.find_element_by_xpath('./div[@class=\"LongInfoCard_Type_Right\"]')\n",
    "            house_price   = house_right.find_elements_by_xpath('./div')[1]\n",
    "            house_p       = house_price.find_elements_by_xpath('./span')\n",
    "            if len(house_p) == 2:\n",
    "                house_p_final = house_p[0].text + house_p[1].text\n",
    "            elif len(house_p) == 3:\n",
    "                house_p_final = house_p[0].text + house_p[1].text + house_p[2].text\n",
    "            one_page_house_info.append([house_address,house_href,house_title,house_p_final,house_type,house_age,house_floor,house_建坪,house_主陽,house_格局,house_車位])\n",
    "        q.put(one_page_house_info)\n",
    "        driver.close()\n",
    "\n",
    "       #if len(pd.DataFrame(one_page_house_info)) != 0:\n",
    "       #    return (pd.DataFrame(one_page_house_info))\n",
    "       #else:\n",
    "       #    print(url)\n",
    "       #    return pd.DataFrame({})\n",
    "\n",
    "    #all_info_df = pd.DataFrame({})\n",
    "    for p in tqdm(串列):\n",
    "        Single_Page = get_page_info_hsinyi(p)\n",
    "        #all_info_df = all_info_df.append(Single_Page)\n",
    "    return 'Done'"
   ]
  },
  {
   "cell_type": "code",
   "execution_count": 477,
   "metadata": {},
   "outputs": [],
   "source": [
    "def get_page_info_hsinyi_test(q,url = 'https://www.sinyi.com.tw/buy/list/Taipei-city/Taipei-R-mrtline/03-mrt/default-desc/5'):\n",
    "        path   = r'/Users/andyhsu/Documents/GitHub/Andy-Portfolio/信義房屋/chromedriver'\n",
    "        options = webdriver.ChromeOptions()\n",
    "        prefs = {\n",
    "        'profile.default_content_setting_values' :\n",
    "            {\n",
    "            'notifications' : 2\n",
    "            }\n",
    "        }\n",
    "        options.add_experimental_option('prefs',prefs)\n",
    "        driver = webdriver.Chrome(path,chrome_options=options)\n",
    "        website = url\n",
    "\n",
    "        #這邊之後改成顯示等待\n",
    "        driver.get(website)\n",
    "        time.sleep(3)\n",
    "\n",
    "        房屋列表      = driver.find_element_by_xpath('//div[@class=\"buy-list-frame\"]')\n",
    "        單一房屋_all  = 房屋列表.find_elements_by_xpath('./div[@class=\"buy-list-item \"]')\n",
    "        one_page_house_info = []\n",
    "        for 單一房屋 in 單一房屋_all:\n",
    "            house_href    = 單一房屋.find_element_by_xpath('./a').get_attribute('href')\n",
    "            house_detail  = 單一房屋.find_element_by_xpath('./a/div/div[@class=\"LongInfoCard_Type\"]/div[@class=\"LongInfoCard_TypeWeb\"]')\n",
    "            house_left    = house_detail.find_element_by_xpath('./div[@class=\"LongInfoCard_Type_Left\"]')\n",
    "            #print(house_left)\n",
    "            house_title   = house_left.find_element_by_xpath('./div[@class=\"LongInfoCard_Type_Name\"]').text\n",
    "            house_address = house_left.find_elements_by_xpath('./div[@class=\"LongInfoCard_Type_Address\"]/span')[0].text\n",
    "            house_age     = house_left.find_elements_by_xpath('./div[@class=\"LongInfoCard_Type_Address\"]/span')[1].text\n",
    "            house_type    = house_left.find_elements_by_xpath('./div[@class=\"LongInfoCard_Type_Address\"]/span')[2].text\n",
    "            house_建坪    = house_left.find_elements_by_xpath('./div[@class=\"LongInfoCard_Type_HouseInfo\"]/span')[0].text\n",
    "            house_主陽    = house_left.find_elements_by_xpath('./div[@class=\"LongInfoCard_Type_HouseInfo\"]/span')[1].text\n",
    "            house_格局    = house_left.find_elements_by_xpath('./div[@class=\"LongInfoCard_Type_HouseInfo\"]/span')[2].text\n",
    "            house_floor  = house_left.find_elements_by_xpath('./div[@class=\"LongInfoCard_Type_HouseInfo\"]/span')[3].text\n",
    "            house_車位    = house_left.find_element_by_xpath('./span[@class=\"LongInfoCard_Type_Parking\"]').text\n",
    "\n",
    "            #只跟價格有關\n",
    "            house_right   = house_detail.find_element_by_xpath('./div[@class=\"LongInfoCard_Type_Right\"]')\n",
    "            house_price   = house_right.find_elements_by_xpath('./div')[1]\n",
    "            house_p       = house_price.find_elements_by_xpath('./span')\n",
    "            if len(house_p) == 2:\n",
    "                house_p_final = house_p[0].text + house_p[1].text\n",
    "            elif len(house_p) == 3:\n",
    "                house_p_final = house_p[0].text + house_p[1].text + house_p[2].text\n",
    "            one_page_house_info.append([house_address,house_href,house_title,house_p_final,house_type,house_age,house_floor,house_建坪,house_主陽,house_格局,house_車位])\n",
    "        q.put(one_page_house_info)\n",
    "        driver.close()\n",
    "        if len(pd.DataFrame(one_page_house_info)) != 0:\n",
    "            return (pd.DataFrame(one_page_house_info))\n",
    "        else:\n",
    "            return url"
   ]
  },
  {
   "cell_type": "code",
   "execution_count": 710,
   "metadata": {},
   "outputs": [
    {
     "name": "stderr",
     "output_type": "stream",
     "text": [
      "100%|██████████| 1/1 [00:32<00:00, 32.02s/it]\n"
     ]
    }
   ],
   "source": [
    "#queue = Queue()\n",
    "queue2 = Queue()\n",
    "#j1 = threading.Thread(target = get_all_page_info_hsinyi, args=(queue,page_url_list_hisnyi[361:371],))\n",
    "j2 = threading.Thread(target = get_all_page_info_hsinyi, args=(queue2,page_url_list_hisnyi[381:],))\n",
    "#j1.start()\n",
    "j2.start()\n",
    "#j1.join()\n",
    "j2.join()"
   ]
  },
  {
   "cell_type": "code",
   "execution_count": 704,
   "metadata": {},
   "outputs": [
    {
     "name": "stdout",
     "output_type": "stream",
     "text": [
      "-\n",
      "-\n",
      "-\n",
      "-\n",
      "-\n",
      "-\n",
      "-\n",
      "-\n",
      "-\n",
      "-\n"
     ]
    }
   ],
   "source": [
    "a = pd.DataFrame()\n",
    "while not queue.empty():\n",
    "    c = queue.get()\n",
    "    a = a.append((pd.DataFrame(c)))\n",
    "    print('-')\n",
    "    #a = a.append(pd.DataFrame(queue.get()))"
   ]
  },
  {
   "cell_type": "code",
   "execution_count": 711,
   "metadata": {},
   "outputs": [
    {
     "name": "stdout",
     "output_type": "stream",
     "text": [
      "-\n"
     ]
    }
   ],
   "source": [
    "b = pd.DataFrame()\n",
    "while not queue2.empty():\n",
    "    c = queue2.get()\n",
    "    b = b.append((pd.DataFrame(c)))\n",
    "    print('-')\n",
    "    #a = a.append(pd.DataFrame(queue.get()))"
   ]
  },
  {
   "cell_type": "code",
   "execution_count": 712,
   "metadata": {},
   "outputs": [],
   "source": [
    "#a.columns = ['Address','href','Title','2022_6_Price','Type','Age','Floor','地坪','主+(陽)','格局','車位']\n",
    "#a.to_csv(r'/Users/andyhsu/Documents/GitHub/Andy-Portfolio/信義房屋/output/信義361-371頁.csv',index=False,header=True,encoding='utf-8-sig')\n",
    "b.columns = ['Address','href','Title','2022_6_Price','Type','Age','Floor','地坪','主+(陽)','格局','車位']\n",
    "b.to_csv(r'/Users/andyhsu/Documents/GitHub/Andy-Portfolio/信義房屋/output/信義381-頁.csv',index=False,header=True,encoding='utf-8-sig')"
   ]
  },
  {
   "cell_type": "code",
   "execution_count": 192,
   "metadata": {},
   "outputs": [],
   "source": [
    "def get_all_page_info_永慶(串列):\n",
    "    Price_Month = str(datetime.today().year) +'_'+ str(datetime.today().month) + '_Price'\n",
    "    def get_page_info_永慶(url):\n",
    "        測試網頁     = requests.get(url)\n",
    "        bs4_web     = bs4.BeautifulSoup(測試網頁.text,'lxml')\n",
    "        房屋列表     = bs4_web.find('div',class_='l-main-list').find('ul',class_='l-item-list')\n",
    "        單一房屋_all = 房屋列表.find_all('li',class_='m-list-item')\n",
    "        one_page_house_info = []\n",
    "        for 單一房屋 in 單一房屋_all:\n",
    "\n",
    "            house_href      = 'https://buy.yungching.com.tw/'+單一房屋.find('a').get('href')\n",
    "            house_title     = 單一房屋.find('a').get('title').split(' ')[0]\n",
    "            house_address   = 單一房屋.find('a').get('title').split(' ')[1]\n",
    "            house_price     = 單一房屋.find('div',class_='item-price').find('div',class_='price').text\n",
    "\n",
    "            house_info_list = [house_href,house_title,house_address,house_price]\n",
    "\n",
    "            house_details   = 單一房屋.find('ul').find_all('li')\n",
    "            for detail in house_details:\n",
    "                #print(detail.text)\n",
    "                house_info_list.append(detail.text)\n",
    "\n",
    "            one_page_house_info.append(house_info_list)\n",
    "\n",
    "            \n",
    "        單一頁面資訊_df = pd.DataFrame(one_page_house_info,columns=['href','Title','Address',Price_Month,'Type','Age','Floor','地坪','主+(陽)','建物','格局','加蓋','車位'])\n",
    "        for col in ['Age','Floor','格局','加蓋','車位']:\n",
    "            單一頁面資訊_df[col] = 單一頁面資訊_df[col].apply(lambda x: x.replace('\\r\\n',''))\n",
    "        \n",
    "        return 單一頁面資訊_df\n",
    "\n",
    "    all_info_df = pd.DataFrame()\n",
    "    for p in tqdm(串列):\n",
    "        Single_Page = get_page_info_永慶(p)\n",
    "        all_info_df = all_info_df.append(Single_Page)\n",
    "\n",
    "    return all_info_df"
   ]
  },
  {
   "cell_type": "code",
   "execution_count": 197,
   "metadata": {},
   "outputs": [
    {
     "name": "stderr",
     "output_type": "stream",
     "text": [
      "100%|██████████| 148/148 [02:37<00:00,  1.07s/it]\n"
     ]
    }
   ],
   "source": [
    "All_Data_永慶 = get_all_page_info_永慶(page_url_list)"
   ]
  },
  {
   "cell_type": "markdown",
   "metadata": {},
   "source": [
    "# DataClean"
   ]
  },
  {
   "cell_type": "code",
   "execution_count": 883,
   "metadata": {},
   "outputs": [],
   "source": [
    "def data_clean_信義(dataframe):\n",
    "\n",
    "    def get_Age(x):\n",
    "        if x == '--':\n",
    "            return '未提供'\n",
    "        elif x == '預售':\n",
    "            return '預售'\n",
    "        else:\n",
    "            return x.replace('年','')\n",
    "        \n",
    "    def get_房(x):\n",
    "        if re.search(r'(\\d)(房)',x) != None:\n",
    "            return int(re.search(r'(\\d)(房)',x).group(1))\n",
    "        else:\n",
    "            return 0\n",
    "        \n",
    "    def get_廳(x):\n",
    "        if re.search(r'(\\d)(廳)',x) != None:\n",
    "            return int(re.search(r'(\\d)(廳)',x).group(1))\n",
    "        else:\n",
    "            return 0\n",
    "\n",
    "    def get_衛(x):\n",
    "        if re.search(r'(\\d+)廳(\\d+.{0,1}\\d{0,2})衛',x) != None:\n",
    "            return float(re.search(r'(\\d+)廳(\\d+.{0,1}\\d{0,2})衛',x).group(2))\n",
    "        else:\n",
    "            return 0\n",
    "\n",
    "    def get_室(x):\n",
    "        if re.search(r'(\\d+)室',x) != None:\n",
    "            return int(re.search(r'(\\d+)(室)',x).group(1))\n",
    "        else:\n",
    "            return 0\n",
    "\n",
    "    def get_price(x):\n",
    "        y = x.replace(',','')\n",
    "        if re.match(r'\\d+萬\\d+萬',y) != None:\n",
    "            原價 = re.match(r'(\\d+)(萬)(\\d+)(萬)',y).group(1)\n",
    "            降價 = re.match(r'(\\d+)(萬)(\\d+)(萬)',y).group(3)\n",
    "            return 降價, 原價\n",
    "        elif re.match(r'\\d+萬',y) != None:\n",
    "            原價 = re.match(r'(\\d+)(萬)',y).group(1)\n",
    "            return 原價, '無'\n",
    "        else:\n",
    "            return '無', '無'\n",
    "\n",
    "    def 車位轉換(x):\n",
    "        if x == '':\n",
    "            return 'N'\n",
    "        else:\n",
    "            return 'Y'\n",
    "\n",
    "\n",
    "    Price_Month = str(datetime.today().year) +'_'+ str(datetime.today().month) + '_Price'\n",
    "    Price_Month_exist = str(datetime.today().year) +'_'+ str(datetime.today().month) + '_Price_較高價格(if exiset)'\n",
    "    dataframe                  = dataframe[(dataframe['Address'].str.contains('台北市'))|(dataframe['Address'].str.contains('台北縣'))]\n",
    "    dataframe['車位']          = dataframe['車位'].fillna('')\n",
    "    dataframe['City']          = dataframe['Address'].apply(lambda x:re.match(r'\\D{2,3}[市|縣]',x)[0])\n",
    "    dataframe['District']      = dataframe['Address'].apply(lambda x:re.match(r'(\\D{2,3}[市|縣])(\\D{2,3}區)',x).group(2))\n",
    "    dataframe['Road']          = dataframe['Address'].apply(lambda x:re.match(r'(\\D{2,3}[市|縣])(\\D{2,3}區)(\\D+)',x).group(3) if re.match(r'(\\D+[市|縣])(\\D+區)(\\D+)',x) != None else 'X')\n",
    "    dataframe[Price_Month_exist]     = dataframe[Price_Month].apply(lambda x: get_price(x)[1])\n",
    "    dataframe[Price_Month]     = dataframe[Price_Month].apply(lambda x: get_price(x)[0])\n",
    "    dataframe['Age']           = dataframe['Age'].apply(lambda x:get_Age(x))\n",
    "    dataframe['地坪']           = dataframe['地坪'].apply(lambda x:re.search(r'\\d+.\\d+',x)[0]  if re.search(r'\\d+.\\d+',x) != None else '未提供')\n",
    "    dataframe['主+(陽)_f']      = dataframe['主+(陽)'].apply(lambda x:re.search(r'\\d+.\\d+',x)[0] if re.search(r'\\d+.\\d+',x) != None else '未提供')\n",
    "    dataframe['加蓋']          = dataframe['格局'].apply(lambda x: 'Y' if ('含加蓋') in x else 'N')\n",
    "    dataframe['房']            = dataframe['格局'].apply(lambda x: get_房(x) + get_室(x))\n",
    "    dataframe['廳']            = dataframe['格局'].apply(lambda x: get_廳(x))\n",
    "    dataframe['衛']            = dataframe['格局'].apply(lambda x: get_衛(x))\n",
    "    dataframe['車位_f']        = dataframe['車位'].apply(lambda x: 車位轉換(x))\n",
    "    return dataframe"
   ]
  },
  {
   "cell_type": "code",
   "execution_count": 884,
   "metadata": {},
   "outputs": [],
   "source": [
    "All_Data_Clean_信義 = pd.DataFrame({})\n",
    "output_folder = os.path.join(os.getcwd(),'output')\n",
    "for file in os.listdir(output_folder):\n",
    "    if '信義' in file and '全資料' not in file: \n",
    "        c = pd.read_csv(output_folder + '/' + file)\n",
    "        clean_c = data_clean_信義(c)\n",
    "        All_Data_Clean_信義 = All_Data_Clean_信義.append(clean_c)"
   ]
  },
  {
   "cell_type": "code",
   "execution_count": 922,
   "metadata": {},
   "outputs": [
    {
     "name": "stdout",
     "output_type": "stream",
     "text": [
      "/Users/andyhsu/Documents/GitHub/Andy-Portfolio/信義房屋/output/信義321-331頁.csv\n",
      "/Users/andyhsu/Documents/GitHub/Andy-Portfolio/信義房屋/output/信義351-361頁.csv\n",
      "/Users/andyhsu/Documents/GitHub/Andy-Portfolio/信義房屋/output/信義341-351頁.csv\n",
      "/Users/andyhsu/Documents/GitHub/Andy-Portfolio/信義房屋/output/信義21-31頁.csv\n",
      "/Users/andyhsu/Documents/GitHub/Andy-Portfolio/信義房屋/output/信義311-321頁.csv\n"
     ]
    }
   ],
   "source": [
    "output_folder = os.path.join(os.getcwd(),'output')\n",
    "for file in os.listdir(output_folder):\n",
    "    if '信義' in file and '全資料' not in file: \n",
    "        c = pd.read_csv(output_folder + '/' + file)\n",
    "        if '台北市內湖區麗山街' in c['Address'].values:\n",
    "            print(output_folder + '/' + file)"
   ]
  },
  {
   "cell_type": "code",
   "execution_count": 885,
   "metadata": {},
   "outputs": [],
   "source": [
    "All_Data_Clean_信義.reset_index(drop=True,inplace=True)\n",
    "All_Data_Clean_信義.to_csv(r'/Users/andyhsu/Documents/GitHub/Andy-Portfolio/信義房屋/output/信義全資料/信義全資料.csv',index=False,header=True,encoding='utf-8-sig')"
   ]
  },
  {
   "cell_type": "code",
   "execution_count": 298,
   "metadata": {},
   "outputs": [],
   "source": [
    "def data_clean_永慶(dataframe):\n",
    "    Price_Month = str(datetime.today().year) +'_'+ str(datetime.today().month) + '_Price'\n",
    "    dataframe                  = dataframe[(dataframe['Address'].str.contains('台北市'))|(dataframe['Address'].str.contains('台北縣'))]\n",
    "    dataframe['City']          = dataframe['Address'].apply(lambda x:re.match(r'\\D{2,3}[市|縣]',x)[0])\n",
    "    dataframe['District']      = dataframe['Address'].apply(lambda x:re.match(r'(\\D{2,3}[市|縣])(\\D{2,3}區)',x).group(2))\n",
    "    dataframe['Road']          = dataframe['Address'].apply(lambda x:re.match(r'(\\D{2,3}[市|縣])(\\D{2,3}區)(\\D+)',x).group(3) if re.match(r'(\\D+[市|縣])(\\D+區)(\\D+)',x) != None else 'X')\n",
    "    dataframe[Price_Month]     = dataframe[Price_Month].apply(lambda x: int(x.replace('萬','').replace(',','')))\n",
    "    dataframe['Age']           = dataframe['Age'].apply(lambda x: float(x.replace('年','')) if x != '\\n' else 1.0)\n",
    "    dataframe['地坪']           = dataframe['地坪'].apply(lambda x:re.search(r'\\d+.\\d+',x)[0]  if re.search(r'\\d+.\\d+',x) != None else '未提供')\n",
    "    dataframe['主+(陽)_f']      = dataframe['主+(陽)'].apply(lambda x:re.search(r'\\d+.\\d+',x)[0] if re.search(r'\\d+.\\d+',x) != None else '未提供')\n",
    "    dataframe['建物']           = dataframe['建物'].apply(lambda x:re.search(r'\\d+.\\d+',x)[0] if re.search(r'\\d+.\\d+',x) != None else '未提供')\n",
    "    dataframe['房']            = dataframe['格局'].apply(lambda x:re.match(r'(\\d+)房\\(室\\)(\\d+)廳(\\d+.{0,1}\\d{0,2})衛',x).group(1) if re.match(r'(\\d+)房\\(室\\)(\\d+)廳(\\d+.{0,1}\\d{0,2})衛',x) != None else '未提供')\n",
    "    dataframe['廳']            = dataframe['格局'].apply(lambda x:re.match(r'(\\d+)房\\(室\\)(\\d+)廳(\\d+.{0,1}\\d{0,2})衛',x).group(2) if re.match(r'(\\d+)房\\(室\\)(\\d+)廳(\\d+.{0,1}\\d{0,2})衛',x) != None else '未提供')\n",
    "    dataframe['衛']            = dataframe['格局'].apply(lambda x:re.match(r'(\\d+)房\\(室\\)(\\d+)廳(\\d+.{0,1}\\d{0,2})衛',x).group(3) if re.match(r'(\\d+)房\\(室\\)(\\d+)廳(\\d+.{0,1}\\d{0,2})衛',x) != None else '未提供')\n",
    "    def 車位轉換(x):\n",
    "        if x == '\\n':\n",
    "            return '沒附車位'\n",
    "        elif x == '(含車位)':\n",
    "            return 0\n",
    "        else:\n",
    "            if re.search(r'\\d+.\\d+',x) != None:\n",
    "                return re.search(r'\\d+.\\d+',x)[0]\n",
    "            else:\n",
    "                return '未提供'\n",
    "    dataframe['車位_f']        = dataframe['車位'].apply(lambda x:車位轉換(x))\n",
    "    dataframe.reset_index(drop=True,inplace=True)\n",
    "    #讓Address當第一個\n",
    "    dataframe = dataframe.set_index('Address').reset_index(drop=False)\n",
    "    return dataframe"
   ]
  },
  {
   "cell_type": "code",
   "execution_count": 299,
   "metadata": {},
   "outputs": [],
   "source": [
    "All_Data_Clean_永慶 = data_clean_永慶(All_Data_永慶)"
   ]
  },
  {
   "cell_type": "code",
   "execution_count": 278,
   "metadata": {},
   "outputs": [
    {
     "data": {
      "text/plain": [
       "array(['中正區', '大安區', '士林區', '中山區', '信義區', '內湖區', '南港區', '松山區', '萬華區',\n",
       "       '北投區', '大同區', '文山區'], dtype=object)"
      ]
     },
     "execution_count": 278,
     "metadata": {},
     "output_type": "execute_result"
    }
   ],
   "source": [
    "All_Data_Clean_永慶['District'].unique()"
   ]
  },
  {
   "cell_type": "code",
   "execution_count": 300,
   "metadata": {},
   "outputs": [
    {
     "name": "stdout",
     "output_type": "stream",
     "text": [
      "output/2022_6.csv\n"
     ]
    }
   ],
   "source": [
    "Month = str(datetime.today().year) +'_'+ str(datetime.today().month)\n",
    "file  = r'output/'  + Month + '.csv'\n",
    "print(file) \n",
    "All_Data_Clean_永慶.to_csv(file,index=False,header=True,encoding='utf-8-sig')"
   ]
  },
  {
   "cell_type": "markdown",
   "metadata": {},
   "source": [
    "# Create DB"
   ]
  },
  {
   "cell_type": "code",
   "execution_count": 245,
   "metadata": {},
   "outputs": [],
   "source": [
    "db = pymysql.connect(host = \"localhost\", user = \"root\", password = \"airflow\")\n",
    "cursor = db.cursor()\n",
    "cursor.execute(\" CREATE DATABASE `HsinYiAssetDB_CHI` CHARACTER SET utf8 COLLATE utf8_general_ci;\")\n",
    "db.close()"
   ]
  },
  {
   "cell_type": "code",
   "execution_count": 889,
   "metadata": {},
   "outputs": [
    {
     "data": {
      "text/plain": [
       "Index(['Address', 'href', 'Title', '2022_6_Price', 'Type', 'Age', 'Floor',\n",
       "       '地坪', '主+(陽)', '格局', '車位', 'City', 'District', 'Road',\n",
       "       '2022_6_Price_較高價格(if exiset)', '主+(陽)_f', '加蓋', '房', '廳', '衛', '車位_f'],\n",
       "      dtype='object')"
      ]
     },
     "execution_count": 889,
     "metadata": {},
     "output_type": "execute_result"
    }
   ],
   "source": [
    "All_Data_Clean_信義.columns"
   ]
  },
  {
   "cell_type": "markdown",
   "metadata": {},
   "source": [
    "# hsinyi table"
   ]
  },
  {
   "cell_type": "code",
   "execution_count": 912,
   "metadata": {},
   "outputs": [
    {
     "name": "stdout",
     "output_type": "stream",
     "text": [
      "CREATE TABLE OK\n"
     ]
    }
   ],
   "source": [
    "db = pymysql.connect(host = \"localhost\", user = \"root\", password = \"airflow\", db = \"HsinYiAssetDB_CHI\" )\n",
    "cursor = db.cursor()\n",
    "cursor.execute(\"DROP TABLE IF EXISTS HSINYI_INFO\")\n",
    "sql = \"\"\"CREATE TABLE HSINYI_INFO (\n",
    "         Address  CHAR(150) NOT NULL,\n",
    "         href CHAR(150),\n",
    "         Title CHAR(40),\n",
    "         Price INT(7),\n",
    "         Type CHAR(10),\n",
    "         Age CHAR(9),\n",
    "         Floor CHAR(20),\n",
    "         地坪 CHAR(15),\n",
    "         主陽台 CHAR(20),\n",
    "         格局 CHAR(25),\n",
    "         加蓋 CHAR(1),\n",
    "         車位 CHAR(20),\n",
    "         City CHAR(3),\n",
    "         District CHAR(5),\n",
    "         Road CHAR(10),\n",
    "         Price_High CHAR(9),\n",
    "         主陽台_f CHAR(7),\n",
    "         房 CHAR(5),\n",
    "         廳 CHAR(5),\n",
    "         衛 CHAR(5),\n",
    "         車位_f CHAR(2)\n",
    "         )\n",
    "         \"\"\"\n",
    "cursor.execute(sql)\n",
    "print(\"CREATE TABLE OK\")\n",
    "cursor.close()\n",
    "db.close()"
   ]
  },
  {
   "cell_type": "code",
   "execution_count": 913,
   "metadata": {},
   "outputs": [],
   "source": [
    "records_hsinyi = []\n",
    "for x in All_Data_Clean_信義.values:\n",
    "    records_hsinyi.append(tuple(x))"
   ]
  },
  {
   "cell_type": "code",
   "execution_count": 914,
   "metadata": {},
   "outputs": [
    {
     "data": {
      "text/plain": [
       "Index(['Address', 'href', 'Title', '2022_6_Price', 'Type', 'Age', 'Floor',\n",
       "       '地坪', '主+(陽)', '格局', '車位', 'City', 'District', 'Road',\n",
       "       '2022_6_Price_較高價格(if exiset)', '主+(陽)_f', '加蓋', '房', '廳', '衛', '車位_f'],\n",
       "      dtype='object')"
      ]
     },
     "execution_count": 914,
     "metadata": {},
     "output_type": "execute_result"
    }
   ],
   "source": [
    "All_Data_Clean_信義.columns"
   ]
  },
  {
   "cell_type": "code",
   "execution_count": 915,
   "metadata": {},
   "outputs": [
    {
     "data": {
      "text/plain": [
       "('台北市大安區泰順街',\n",
       " 'https://www.sinyi.com.tw/buy/house/75430Q/?breadcrumb=list',\n",
       " '台電大樓站泰順街花園庭院',\n",
       " '6280',\n",
       " '公寓',\n",
       " '39.6',\n",
       " 'B1-1樓/5樓',\n",
       " '50.29',\n",
       " '主建物29.38',\n",
       " '3房2廳2衛1室',\n",
       " '',\n",
       " '台北市',\n",
       " '大安區',\n",
       " '泰順街',\n",
       " '無',\n",
       " '29.38',\n",
       " 'N',\n",
       " 4,\n",
       " 2,\n",
       " 2.0,\n",
       " 'N')"
      ]
     },
     "execution_count": 915,
     "metadata": {},
     "output_type": "execute_result"
    }
   ],
   "source": [
    "records_hsinyi[0]"
   ]
  },
  {
   "cell_type": "code",
   "execution_count": 916,
   "metadata": {},
   "outputs": [
    {
     "name": "stdout",
     "output_type": "stream",
     "text": [
      "6199 was inserted.\n"
     ]
    }
   ],
   "source": [
    "db = pymysql.connect(host = \"localhost\", user = \"root\", password = \"airflow\", db = \"HsinYiAssetDB_CHI\" )\n",
    "\n",
    "#要新增或修改資料庫內容要呼叫的指標物件\n",
    "mycursor = db.cursor()\n",
    "\n",
    "\n",
    "sql = \"\"\"INSERT INTO HSINYI_INFO (Address, href, Title, Price, Type, Age, Floor, 地坪, 主陽台, 格局, 車位, City, District, Road, Price_High, 主陽台_f, 加蓋, 房, 廳, 衛, 車位_f) VALUES \\\n",
    "    (%s, %s, %s, %s, %s, %s, %s, %s, %s, %s, %s, %s, %s, %s, %s, %s, %s, %s, %s, %s, %s)\"\"\"\n",
    "val = records_hsinyi\n",
    "\n",
    "\n",
    "mycursor.executemany(sql, val)\n",
    "\n",
    "#提交任務\n",
    "db.commit()\n",
    "print(mycursor.rowcount, \"was inserted.\")\n",
    "\n",
    "mycursor.close()\n",
    "db.close()"
   ]
  },
  {
   "cell_type": "markdown",
   "metadata": {},
   "source": [
    "# 永慶table"
   ]
  },
  {
   "cell_type": "code",
   "execution_count": 301,
   "metadata": {},
   "outputs": [
    {
     "name": "stdout",
     "output_type": "stream",
     "text": [
      "CREATE TABLE OK\n"
     ]
    }
   ],
   "source": [
    "db = pymysql.connect(host = \"localhost\", user = \"root\", password = \"airflow\", db = \"HsinYiAssetDB_CHI\" )\n",
    "cursor = db.cursor()\n",
    "cursor.execute(\"DROP TABLE IF EXISTS NEWEST_INFO\")\n",
    "sql = \"\"\"CREATE TABLE NEWEST_INFO (\n",
    "         Address  CHAR(50) NOT NULL,\n",
    "         href CHAR(150),\n",
    "         Title CHAR(40),\n",
    "         Price INT(7),\n",
    "         Type CHAR(10),\n",
    "         Age FLOAT(4,1),\n",
    "         Floor CHAR(20),\n",
    "         地坪 CHAR(15),\n",
    "         主陽台 CHAR(20),\n",
    "         建物 CHAR(15),\n",
    "         格局 CHAR(15),\n",
    "         加蓋 CHAR(20),\n",
    "         車位 CHAR(20),\n",
    "         City CHAR(3),\n",
    "         District CHAR(5),\n",
    "         Road CHAR(10),\n",
    "         主陽台_f CHAR(7),\n",
    "         房 CHAR(5),\n",
    "         廳 CHAR(5),\n",
    "         衛 CHAR(5),\n",
    "         車位_f CHAR(10)\n",
    "         )\n",
    "         \"\"\"\n",
    "cursor.execute(sql)\n",
    "print(\"CREATE TABLE OK\")\n",
    "cursor.close()\n",
    "db.close()"
   ]
  },
  {
   "cell_type": "code",
   "execution_count": 302,
   "metadata": {},
   "outputs": [],
   "source": [
    "records = []\n",
    "for x in All_Data_Clean_永慶.values:\n",
    "    records.append(tuple(x))"
   ]
  },
  {
   "cell_type": "code",
   "execution_count": 303,
   "metadata": {},
   "outputs": [
    {
     "name": "stdout",
     "output_type": "stream",
     "text": [
      "4404 was inserted.\n"
     ]
    }
   ],
   "source": [
    "db = pymysql.connect(host = \"localhost\", user = \"root\", password = \"airflow\", db = \"HsinYiAssetDB_CHI\" )\n",
    "\n",
    "#要新增或修改資料庫內容要呼叫的指標物件\n",
    "mycursor = db.cursor()\n",
    "\n",
    "\n",
    "sql = \"\"\"INSERT INTO NEWEST_INFO (Address, href, Title, Price, Type, Age, Floor, 地坪, 主陽台, 建物, 格局, 加蓋, 車位, City, District, Road, 主陽台_f, 房, 廳, 衛, 車位_f) VALUES \\\n",
    "    (%s, %s, %s, %s, %s, %s, %s, %s, %s, %s, %s, %s, %s, %s, %s, %s, %s, %s, %s, %s, %s)\"\"\"\n",
    "val = records\n",
    "\n",
    "\n",
    "mycursor.executemany(sql, val)\n",
    "\n",
    "#提交任務\n",
    "db.commit()\n",
    "print(mycursor.rowcount, \"was inserted.\")\n",
    "\n",
    "mycursor.close()\n",
    "db.close()"
   ]
  },
  {
   "cell_type": "code",
   "execution_count": 305,
   "metadata": {},
   "outputs": [
    {
     "name": "stdout",
     "output_type": "stream",
     "text": [
      "CREATE TABLE OK\n"
     ]
    }
   ],
   "source": [
    "db = pymysql.connect(host = \"localhost\", user = \"root\", password = \"airflow\", db = \"HsinYiAssetDB_CHI\" )\n",
    "cursor = db.cursor()\n",
    "cursor.execute(\"DROP TABLE IF EXISTS PRICE_TREND\")\n",
    "sql = \"\"\"CREATE TABLE PRICE_TREND (\n",
    "         Address  CHAR(50) NOT NULL,\n",
    "         href CHAR(150),\n",
    "         Title CHAR(40),\n",
    "         Price_2022_06 INT(7)\n",
    "         )\n",
    "         \"\"\"\n",
    "cursor.execute(sql)\n",
    "print(\"CREATE TABLE OK\")\n",
    "cursor.close()\n",
    "db.close()"
   ]
  },
  {
   "cell_type": "code",
   "execution_count": 307,
   "metadata": {},
   "outputs": [],
   "source": [
    "price_records = []\n",
    "for x in All_Data_Clean_永慶.values:\n",
    "    price_records.append(tuple(x[:4]))"
   ]
  },
  {
   "cell_type": "code",
   "execution_count": 311,
   "metadata": {},
   "outputs": [
    {
     "name": "stdout",
     "output_type": "stream",
     "text": [
      "4404 was inserted.\n"
     ]
    }
   ],
   "source": [
    "db = pymysql.connect(host = \"localhost\", user = \"root\", password = \"airflow\", db = \"HsinYiAssetDB_CHI\" )\n",
    "\n",
    "#要新增或修改資料庫內容要呼叫的指標物件\n",
    "mycursor = db.cursor()\n",
    "\n",
    "\n",
    "sql = \"\"\"INSERT INTO PRICE_TREND (Address, href, Title, Price_2022_06) VALUES \\\n",
    "    (%s, %s, %s, %s)\"\"\"\n",
    "val = price_records\n",
    "\n",
    "\n",
    "mycursor.executemany(sql, val)\n",
    "\n",
    "#提交任務\n",
    "db.commit()\n",
    "print(mycursor.rowcount, \"was inserted.\")\n",
    "\n",
    "mycursor.close()\n",
    "db.close()"
   ]
  },
  {
   "cell_type": "code",
   "execution_count": null,
   "metadata": {},
   "outputs": [],
   "source": []
  }
 ],
 "metadata": {
  "interpreter": {
   "hash": "40d3a090f54c6569ab1632332b64b2c03c39dcf918b08424e98f38b5ae0af88f"
  },
  "kernelspec": {
   "display_name": "Python 3.8.5 ('base')",
   "language": "python",
   "name": "python3"
  },
  "language_info": {
   "codemirror_mode": {
    "name": "ipython",
    "version": 3
   },
   "file_extension": ".py",
   "mimetype": "text/x-python",
   "name": "python",
   "nbconvert_exporter": "python",
   "pygments_lexer": "ipython3",
   "version": "3.8.5"
  },
  "orig_nbformat": 4
 },
 "nbformat": 4,
 "nbformat_minor": 2
}
