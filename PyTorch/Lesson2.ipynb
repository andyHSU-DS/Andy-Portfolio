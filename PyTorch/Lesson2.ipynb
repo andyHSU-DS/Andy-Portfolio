{
 "cells": [
  {
   "cell_type": "markdown",
   "metadata": {},
   "source": [
    "# 2-1"
   ]
  },
  {
   "cell_type": "code",
   "execution_count": 4,
   "metadata": {},
   "outputs": [],
   "source": [
    "import torch"
   ]
  },
  {
   "cell_type": "code",
   "execution_count": 2,
   "metadata": {},
   "outputs": [],
   "source": [
    "w = torch.tensor(2.0, requires_grad = True)\n",
    "b = torch.tensor(-1.0, requires_grad = True)"
   ]
  },
  {
   "cell_type": "code",
   "execution_count": 3,
   "metadata": {},
   "outputs": [],
   "source": [
    "def forward(x):\n",
    "    yhat = w * x + b\n",
    "    return yhat"
   ]
  },
  {
   "cell_type": "code",
   "execution_count": 4,
   "metadata": {},
   "outputs": [
    {
     "name": "stdout",
     "output_type": "stream",
     "text": [
      "The prediction:  tensor([[1.]], grad_fn=<AddBackward0>)\n"
     ]
    }
   ],
   "source": [
    "x = torch.tensor([[1.0]])\n",
    "yhat = forward(x)\n",
    "print(\"The prediction: \", yhat)"
   ]
  },
  {
   "cell_type": "code",
   "execution_count": 5,
   "metadata": {},
   "outputs": [
    {
     "name": "stdout",
     "output_type": "stream",
     "text": [
      "The shape of x:  torch.Size([2, 1])\n"
     ]
    }
   ],
   "source": [
    "x = torch.tensor([[1.0], [2.0]])\n",
    "print(\"The shape of x: \", x.shape)"
   ]
  },
  {
   "cell_type": "code",
   "execution_count": 6,
   "metadata": {},
   "outputs": [
    {
     "name": "stdout",
     "output_type": "stream",
     "text": [
      "The prediction:  tensor([[1.],\n",
      "        [3.]], grad_fn=<AddBackward0>)\n"
     ]
    }
   ],
   "source": [
    "yhat = forward(x)\n",
    "print(\"The prediction: \", yhat)"
   ]
  },
  {
   "cell_type": "markdown",
   "metadata": {},
   "source": [
    "## class linear"
   ]
  },
  {
   "cell_type": "code",
   "execution_count": 5,
   "metadata": {},
   "outputs": [],
   "source": [
    "#nueral network\n",
    "from torch.nn import Linear"
   ]
  },
  {
   "cell_type": "code",
   "execution_count": 9,
   "metadata": {},
   "outputs": [
    {
     "data": {
      "text/plain": [
       "<torch._C.Generator at 0x7fcf78e9df18>"
      ]
     },
     "execution_count": 9,
     "metadata": {},
     "output_type": "execute_result"
    }
   ],
   "source": [
    "torch.manual_seed(1)"
   ]
  },
  {
   "cell_type": "code",
   "execution_count": 20,
   "metadata": {},
   "outputs": [
    {
     "name": "stdout",
     "output_type": "stream",
     "text": [
      "Parameters w and b:  [Parameter containing:\n",
      "tensor([[0.9356],\n",
      "        [0.6881]], requires_grad=True), Parameter containing:\n",
      "tensor([-0.4937, -0.4596], requires_grad=True)]\n"
     ]
    }
   ],
   "source": [
    "lr = Linear(in_features=1, out_features=2, bias=True)\n",
    "print(\"Parameters w and b: \", list(lr.parameters()))"
   ]
  },
  {
   "cell_type": "code",
   "execution_count": 21,
   "metadata": {},
   "outputs": [
    {
     "name": "stdout",
     "output_type": "stream",
     "text": [
      "Python dictionary:  OrderedDict([('weight', tensor([[0.9356],\n",
      "        [0.6881]])), ('bias', tensor([-0.4937, -0.4596]))])\n",
      "keys:  odict_keys(['weight', 'bias'])\n",
      "values:  odict_values([tensor([[0.9356],\n",
      "        [0.6881]]), tensor([-0.4937, -0.4596])])\n"
     ]
    }
   ],
   "source": [
    "print(\"Python dictionary: \",lr.state_dict())\n",
    "print(\"keys: \",lr.state_dict().keys())\n",
    "print(\"values: \",lr.state_dict().values())"
   ]
  },
  {
   "cell_type": "code",
   "execution_count": 22,
   "metadata": {},
   "outputs": [
    {
     "name": "stdout",
     "output_type": "stream",
     "text": [
      "weight: Parameter containing:\n",
      "tensor([[0.9356],\n",
      "        [0.6881]], requires_grad=True)\n",
      "bias: Parameter containing:\n",
      "tensor([-0.4937, -0.4596], requires_grad=True)\n"
     ]
    }
   ],
   "source": [
    "print(\"weight:\",lr.weight)\n",
    "print(\"bias:\",lr.bias)"
   ]
  },
  {
   "cell_type": "code",
   "execution_count": 23,
   "metadata": {},
   "outputs": [
    {
     "name": "stdout",
     "output_type": "stream",
     "text": [
      "The prediction:  tensor([[0.4418, 0.2285]], grad_fn=<AddmmBackward0>)\n"
     ]
    }
   ],
   "source": [
    "x = torch.tensor([[1.0]])\n",
    "yhat = lr(x)\n",
    "print(\"The prediction: \", yhat)"
   ]
  },
  {
   "cell_type": "code",
   "execution_count": 24,
   "metadata": {},
   "outputs": [
    {
     "name": "stdout",
     "output_type": "stream",
     "text": [
      "The prediction:  tensor([[0.4418, 0.2285],\n",
      "        [1.3774, 0.9165]], grad_fn=<AddmmBackward0>)\n"
     ]
    }
   ],
   "source": [
    "x = torch.tensor([[1.0], [2.0]])\n",
    "yhat = lr(x)\n",
    "print(\"The prediction: \", yhat)"
   ]
  },
  {
   "cell_type": "markdown",
   "metadata": {},
   "source": [
    "## Build Custom Modules"
   ]
  },
  {
   "cell_type": "code",
   "execution_count": 80,
   "metadata": {},
   "outputs": [],
   "source": [
    "from torch import nn\n",
    "class LR(nn.Module):\n",
    "    def __init__(self, input_size, output_size):\n",
    "        super(LR,self).__init__()#等同於super().__init__()\n",
    "        self.linear = nn.Linear(input_size, output_size)\n",
    "    def forward(self,x):\n",
    "        out = self.linear(x)\n",
    "        return out"
   ]
  },
  {
   "cell_type": "code",
   "execution_count": 81,
   "metadata": {},
   "outputs": [
    {
     "name": "stdout",
     "output_type": "stream",
     "text": [
      "The parameters:  [Parameter containing:\n",
      "tensor([[-0.3724]], requires_grad=True), Parameter containing:\n",
      "tensor([-0.6040], requires_grad=True)]\n",
      "Linear model:  Linear(in_features=1, out_features=1, bias=True)\n"
     ]
    }
   ],
   "source": [
    "lr = LR(1, 1)\n",
    "print(\"The parameters: \", list(lr.parameters()))\n",
    "print(\"Linear model: \", lr.linear)"
   ]
  },
  {
   "cell_type": "code",
   "execution_count": 82,
   "metadata": {},
   "outputs": [
    {
     "name": "stdout",
     "output_type": "stream",
     "text": [
      "tensor([[-0.9764]], grad_fn=<AddmmBackward0>)\n",
      "The prediction:  tensor([[-0.9764]], grad_fn=<AddmmBackward0>)\n"
     ]
    }
   ],
   "source": [
    "x = torch.tensor([[1.0]])\n",
    "yhat = lr(x)\n",
    "print(lr(x))\n",
    "print(\"The prediction: \", yhat)"
   ]
  },
  {
   "cell_type": "code",
   "execution_count": 18,
   "metadata": {},
   "outputs": [
    {
     "name": "stdout",
     "output_type": "stream",
     "text": [
      "The prediction:  tensor([[0.2755],\n",
      "        [0.0816]], grad_fn=<AddmmBackward0>)\n"
     ]
    }
   ],
   "source": [
    "x = torch.tensor([[1.0], [2.0]])\n",
    "yhat = lr(x)\n",
    "print(\"The prediction: \", yhat)"
   ]
  },
  {
   "cell_type": "code",
   "execution_count": 25,
   "metadata": {},
   "outputs": [
    {
     "name": "stdout",
     "output_type": "stream",
     "text": [
      "Python dictionary:  OrderedDict([('linear.weight', tensor([[-0.2057]])), ('linear.bias', tensor([0.5087]))])\n",
      "keys:  odict_keys(['linear.weight', 'linear.bias'])\n",
      "values:  odict_values([tensor([[-0.2057]]), tensor([0.5087])])\n"
     ]
    }
   ],
   "source": [
    "print(\"Python dictionary: \", lr.state_dict())\n",
    "print(\"keys: \",lr.state_dict().keys())\n",
    "print(\"values: \",lr.state_dict().values())"
   ]
  },
  {
   "cell_type": "markdown",
   "metadata": {},
   "source": [
    "# 自己測試nn.linear運作方式"
   ]
  },
  {
   "cell_type": "code",
   "execution_count": 5,
   "metadata": {},
   "outputs": [],
   "source": [
    "from torch.nn import Linear\n",
    "import torch\n",
    "lr = Linear(in_features=2, out_features=3, bias=True)"
   ]
  },
  {
   "cell_type": "code",
   "execution_count": 6,
   "metadata": {},
   "outputs": [
    {
     "data": {
      "text/plain": [
       "[Parameter containing:\n",
       " tensor([[-0.4845,  0.0746],\n",
       "         [-0.5828,  0.5705],\n",
       "         [ 0.1273, -0.4341]], requires_grad=True),\n",
       " Parameter containing:\n",
       " tensor([-0.2240, -0.4618,  0.4466], requires_grad=True)]"
      ]
     },
     "execution_count": 6,
     "metadata": {},
     "output_type": "execute_result"
    }
   ],
   "source": [
    "list(lr.parameters())#x*wT+b"
   ]
  },
  {
   "cell_type": "code",
   "execution_count": 64,
   "metadata": {},
   "outputs": [
    {
     "data": {
      "text/plain": [
       "OrderedDict([('weight',\n",
       "              tensor([[ 0.4568, -0.2453],\n",
       "                      [ 0.2312,  0.5858],\n",
       "                      [ 0.4108,  0.0647],\n",
       "                      [-0.6675, -0.4238]])),\n",
       "             ('bias', tensor([ 0.0163, -0.4421, -0.2376, -0.0695]))])"
      ]
     },
     "execution_count": 64,
     "metadata": {},
     "output_type": "execute_result"
    }
   ],
   "source": [
    "lr.state_dict()"
   ]
  },
  {
   "cell_type": "code",
   "execution_count": 66,
   "metadata": {},
   "outputs": [
    {
     "data": {
      "text/plain": [
       "tensor([[-0.0515,  2.3635,  0.8428, -3.0996]], grad_fn=<AddmmBackward0>)"
      ]
     },
     "execution_count": 66,
     "metadata": {},
     "output_type": "execute_result"
    }
   ],
   "source": [
    "lr(torch.tensor([[2.0,4.0]]))"
   ]
  },
  {
   "cell_type": "code",
   "execution_count": null,
   "metadata": {},
   "outputs": [],
   "source": []
  }
 ],
 "metadata": {
  "interpreter": {
   "hash": "8acd2a4c40bb06440d03e583eeea35c6596324a3385dafe16353bbc1939be192"
  },
  "kernelspec": {
   "display_name": "DL",
   "language": "python",
   "name": "python3"
  },
  "language_info": {
   "codemirror_mode": {
    "name": "ipython",
    "version": 3
   },
   "file_extension": ".py",
   "mimetype": "text/x-python",
   "name": "python",
   "nbconvert_exporter": "python",
   "pygments_lexer": "ipython3",
   "version": "3.7.11"
  }
 },
 "nbformat": 4,
 "nbformat_minor": 4
}
