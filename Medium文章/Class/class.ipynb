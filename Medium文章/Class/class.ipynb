{
 "cells": [
  {
   "cell_type": "code",
   "execution_count": 231,
   "metadata": {},
   "outputs": [],
   "source": [
    "class BasketBallTeam:\n",
    "    def __init__(self, team_player = 15):\n",
    "        self.Sport       = 'BasketBall'\n",
    "        self.team_player = team_player\n",
    "        self.President   = 'Black Man'\n",
    "\n",
    "    def get_team_player(self):\n",
    "        return self.team_player\n",
    "    \n",
    "    def Team_Info(self, show = True):\n",
    "        if show:\n",
    "            self.President = self.President \n",
    "            return self.President\n",
    "        else:\n",
    "            self.President = 'No show'\n",
    "            print('False')\n",
    "            return None\n",
    "\n",
    "class PLG_Team(BasketBallTeam):\n",
    "    def __init__(self, Team_Name, Team_Player):\n",
    "        super().__init__(Team_Player)\n",
    "        self.Team_Name = Team_Name\n",
    "        self.Team_Player = Team_Player\n",
    "\n",
    "    def get_team_player(self, **Change):\n",
    "        super().get_team_player()\n",
    "        print(self.team_player)\n",
    "        for x,y in Change.items():\n",
    "            print(x)\n",
    "            print(y)\n",
    "            if x in ['waive','unsigned']:\n",
    "                self.team_player -= len(y)\n",
    "            elif x in ['sign']:\n",
    "                self.team_player += len(y)\n",
    "        return self.team_player, self.Team_Player\n",
    "\n",
    "    def Team_Info(self, Boss, show = False):\n",
    "        super().Team_Info(show)\n",
    "        return {'President':self.President, 'Boss': Boss, 'Team_Player':self.team_player}"
   ]
  },
  {
   "cell_type": "code",
   "execution_count": 232,
   "metadata": {},
   "outputs": [],
   "source": [
    "a = BasketBallTeam(15)\n",
    "b = PLG_Team('FuBon Braves',21)"
   ]
  },
  {
   "cell_type": "code",
   "execution_count": 234,
   "metadata": {},
   "outputs": [
    {
     "data": {
      "text/plain": [
       "21"
      ]
     },
     "execution_count": 234,
     "metadata": {},
     "output_type": "execute_result"
    }
   ],
   "source": [
    "b.Team_Player"
   ]
  },
  {
   "cell_type": "code",
   "execution_count": 221,
   "metadata": {},
   "outputs": [
    {
     "name": "stdout",
     "output_type": "stream",
     "text": [
      "21\n",
      "waive\n",
      "['a', 'b']\n",
      "sign\n",
      "['c']\n",
      "unsigned\n",
      "['c']\n"
     ]
    },
    {
     "data": {
      "text/plain": [
       "(19, 21)"
      ]
     },
     "execution_count": 221,
     "metadata": {},
     "output_type": "execute_result"
    }
   ],
   "source": [
    "b.get_team_player(waive=['a','b'],sign=['c'],unsigned=['c'])"
   ]
  },
  {
   "cell_type": "code",
   "execution_count": 222,
   "metadata": {},
   "outputs": [
    {
     "data": {
      "text/plain": [
       "{'President': 'Black Man', 'Boss': '蔡明忠', 'Team_Player': 19}"
      ]
     },
     "execution_count": 222,
     "metadata": {},
     "output_type": "execute_result"
    }
   ],
   "source": [
    "b.Team_Info('蔡明忠',show=True)"
   ]
  },
  {
   "cell_type": "code",
   "execution_count": 12,
   "metadata": {},
   "outputs": [],
   "source": [
    "class Father:\n",
    "    def __init__(self,name,height):\n",
    "        self.name   = name\n",
    "        self.height = height\n",
    "\n",
    "    def get_name(self):\n",
    "        print('get_name')\n",
    "        self.name += self.name + ' get_name_1'\n",
    "        return self.name\n",
    "    \n",
    "    def get_height(self):\n",
    "        return self.height\n",
    "\n",
    "class Son(Father):\n",
    "    def __init__(self,Fname,Fheight,name,height):\n",
    "        super().__init__(Fname,height)\n",
    "        self.Fname   = name\n",
    "        self.Fheight = Fheight\n",
    "\n",
    "    def _get_name(self, Fname):\n",
    "        super().get_name()\n",
    "        self.name += self.name + ' get_name_2'\n",
    "        self.Fname += Fname\n",
    "        return self.name, self.Fname"
   ]
  },
  {
   "cell_type": "code",
   "execution_count": 13,
   "metadata": {},
   "outputs": [],
   "source": [
    "Jack = Father('Jack',100)\n",
    "Andy = Son('Jack',100,'Andy',200)"
   ]
  },
  {
   "cell_type": "code",
   "execution_count": 19,
   "metadata": {},
   "outputs": [
    {
     "name": "stdout",
     "output_type": "stream",
     "text": [
      "140202768049152\n",
      "get_name\n",
      "140203040009072\n",
      "get_name\n",
      "140203576898624\n"
     ]
    }
   ],
   "source": [
    "print(id(Jack))\n",
    "print(id(Jack.get_name()))\n",
    "print(id(Andy._get_name('Jack')))"
   ]
  },
  {
   "cell_type": "code",
   "execution_count": 9,
   "metadata": {},
   "outputs": [
    {
     "name": "stdout",
     "output_type": "stream",
     "text": [
      "get_name\n"
     ]
    },
    {
     "data": {
      "text/plain": [
       "'JackJack get_name_1'"
      ]
     },
     "execution_count": 9,
     "metadata": {},
     "output_type": "execute_result"
    }
   ],
   "source": [
    "Jack.get_name()"
   ]
  },
  {
   "cell_type": "code",
   "execution_count": 10,
   "metadata": {},
   "outputs": [
    {
     "data": {
      "text/plain": [
       "100"
      ]
     },
     "execution_count": 10,
     "metadata": {},
     "output_type": "execute_result"
    }
   ],
   "source": [
    "Andy.Fheight"
   ]
  },
  {
   "cell_type": "code",
   "execution_count": 11,
   "metadata": {},
   "outputs": [
    {
     "data": {
      "text/plain": [
       "'Jack'"
      ]
     },
     "execution_count": 11,
     "metadata": {},
     "output_type": "execute_result"
    }
   ],
   "source": [
    "Andy.name"
   ]
  },
  {
   "cell_type": "code",
   "execution_count": 5,
   "metadata": {},
   "outputs": [
    {
     "name": "stdout",
     "output_type": "stream",
     "text": [
      "get_name\n"
     ]
    },
    {
     "data": {
      "text/plain": [
       "('JackJack get_name_1JackJack get_name_1 get_name_2', 'AndyJack')"
      ]
     },
     "execution_count": 5,
     "metadata": {},
     "output_type": "execute_result"
    }
   ],
   "source": [
    "Andy._get_name('Jack')"
   ]
  },
  {
   "cell_type": "code",
   "execution_count": null,
   "metadata": {},
   "outputs": [],
   "source": []
  }
 ],
 "metadata": {
  "interpreter": {
   "hash": "40d3a090f54c6569ab1632332b64b2c03c39dcf918b08424e98f38b5ae0af88f"
  },
  "kernelspec": {
   "display_name": "Python 3.8.5 ('base')",
   "language": "python",
   "name": "python3"
  },
  "language_info": {
   "codemirror_mode": {
    "name": "ipython",
    "version": 3
   },
   "file_extension": ".py",
   "mimetype": "text/x-python",
   "name": "python",
   "nbconvert_exporter": "python",
   "pygments_lexer": "ipython3",
   "version": "3.8.5"
  },
  "orig_nbformat": 4
 },
 "nbformat": 4,
 "nbformat_minor": 2
}
