{
 "cells": [
  {
   "cell_type": "code",
   "execution_count": 2,
   "metadata": {},
   "outputs": [
    {
     "name": "stdout",
     "output_type": "stream",
     "text": [
      "Collecting torch\n",
      "  Downloading torch-1.10.0-cp36-none-macosx_10_9_x86_64.whl (147.1 MB)\n",
      "\u001b[K     |████████████████████████████████| 147.1 MB 5.0 MB/s eta 0:00:012\n",
      "\u001b[?25hCollecting dataclasses\n",
      "  Downloading dataclasses-0.8-py3-none-any.whl (19 kB)\n",
      "Requirement already satisfied: typing-extensions in /opt/anaconda3/envs/DL/lib/python3.6/site-packages (from torch) (3.10.0.0)\n",
      "Installing collected packages: dataclasses, torch\n",
      "Successfully installed dataclasses-0.8 torch-1.10.0\n",
      "Note: you may need to restart the kernel to use updated packages.\n"
     ]
    }
   ],
   "source": [
    "pip install torch"
   ]
  },
  {
   "cell_type": "markdown",
   "metadata": {},
   "source": [
    "# 1-1"
   ]
  },
  {
   "cell_type": "markdown",
   "metadata": {},
   "source": [
    "## tensor dtype & type() & ndimension() & size()"
   ]
  },
  {
   "cell_type": "code",
   "execution_count": 23,
   "metadata": {},
   "outputs": [],
   "source": [
    "import torch"
   ]
  },
  {
   "cell_type": "code",
   "execution_count": 15,
   "metadata": {},
   "outputs": [
    {
     "name": "stdout",
     "output_type": "stream",
     "text": [
      "zero_D_var\n",
      "tensor(3)\n",
      "torch.int64\n",
      "torch.LongTensor\n",
      "0\n",
      "torch.Size([])\n",
      "--------------------------------------------------\n",
      "one_D_var\n",
      "tensor([3., 5., 8., 9.])\n",
      "torch.float32\n",
      "torch.FloatTensor\n",
      "1\n",
      "torch.Size([4])\n",
      "--------------------------------------------------\n",
      "two_D_var\n",
      "tensor([[3.],\n",
      "        [4.]], dtype=torch.float64)\n",
      "torch.float64\n",
      "torch.DoubleTensor\n",
      "2\n",
      "torch.Size([2, 1])\n"
     ]
    }
   ],
   "source": [
    "zero_D_var = torch.tensor(3)#tensor Tensor皆可\n",
    "print('zero_D_var')\n",
    "print(zero_D_var)\n",
    "print(zero_D_var.dtype)\n",
    "print(zero_D_var.type())\n",
    "print(zero_D_var.ndimension())\n",
    "print(zero_D_var.size())\n",
    "print('-'*50)\n",
    "\n",
    "one_D_var = torch.Tensor([3.0,5.0,8.0,9.0])\n",
    "print('one_D_var')\n",
    "print(one_D_var)\n",
    "print(one_D_var.dtype)\n",
    "print(one_D_var.type())\n",
    "print(one_D_var.ndimension())\n",
    "print(one_D_var.size())\n",
    "print('-'*50)\n",
    "\n",
    "two_D_var = torch.tensor([[3.0],\n",
    "                          [4]],dtype=torch.float64)\n",
    "print('two_D_var')\n",
    "print(two_D_var)\n",
    "print(two_D_var.dtype)\n",
    "print(two_D_var.type())\n",
    "print(two_D_var.ndimension())\n",
    "print(two_D_var.size())"
   ]
  },
  {
   "cell_type": "code",
   "execution_count": 25,
   "metadata": {},
   "outputs": [
    {
     "name": "stdout",
     "output_type": "stream",
     "text": [
      "1-D to 2-D\n",
      "tensor([1, 2, 3])\n",
      "1D_Dimension: 1\n",
      "1D_Size: torch.Size([3])\n",
      "--------------------------------------------------\n",
      "tensor([[1, 2, 3]])\n",
      "2D_Dimension: 2\n",
      "2D_Size: torch.Size([1, 3])\n",
      "--------------------------------------------------\n",
      "tensor([[1],\n",
      "        [2],\n",
      "        [3]])\n",
      "2D_Dimension: 2\n",
      "2D_Size: torch.Size([3, 1])\n"
     ]
    }
   ],
   "source": [
    "print('1-D to 2-D')\n",
    "one_D = torch.tensor([1,2,3])\n",
    "print(one_D)\n",
    "print('1D_Dimension:',one_D.ndimension())\n",
    "print('1D_Size:',one_D.size())\n",
    "print('-'*50)\n",
    "two_D = one_D.view(1,-1)\n",
    "print(two_D)\n",
    "print('2D_Dimension:',two_D.ndimension())\n",
    "print('2D_Size:',two_D.size())\n",
    "print('-'*50)\n",
    "two_D_ = one_D.view(-1,1)\n",
    "print(two_D_)\n",
    "print('2D_Dimension:',two_D_.ndimension())\n",
    "print('2D_Size:',two_D_.size())"
   ]
  },
  {
   "cell_type": "markdown",
   "metadata": {},
   "source": [
    "## tensor和np.array的關係轉換"
   ]
  },
  {
   "cell_type": "code",
   "execution_count": 27,
   "metadata": {},
   "outputs": [
    {
     "name": "stdout",
     "output_type": "stream",
     "text": [
      "numpy_array: [0.  3.  4.5]\n",
      "torch_tensor: tensor([0.0000, 3.0000, 4.5000], dtype=torch.float64)\n",
      "torch_long_tensor: tensor([0, 3, 4])\n",
      "numpy_from_torch: [0.  3.  4.5]\n"
     ]
    }
   ],
   "source": [
    "import numpy as np\n",
    "numpy_array = np.array([0,3.0,4.5])\n",
    "torch_tensor = torch.from_numpy(numpy_array)\n",
    "torch_Long_Tensor = torch.LongTensor(numpy_array)\n",
    "numpy_from_torch = torch_tensor.numpy()\n",
    "print('numpy_array:',numpy_array)\n",
    "print('torch_tensor:',torch_tensor)\n",
    "print('torch_long_tensor:',torch_Long_Tensor)\n",
    "print('numpy_from_torch:',numpy_from_torch)"
   ]
  },
  {
   "cell_type": "markdown",
   "metadata": {},
   "source": [
    "## tensor index and slice"
   ]
  },
  {
   "cell_type": "code",
   "execution_count": 30,
   "metadata": {},
   "outputs": [
    {
     "name": "stdout",
     "output_type": "stream",
     "text": [
      "tensor(20.)\n",
      "<built-in method item of Tensor object at 0x7fd0d8118f98>\n",
      "20.0\n",
      "tensor([20.0000,  2.0000,  4.0000,  5.5000])\n",
      "tensor([100.,   4., 100.])\n"
     ]
    }
   ],
   "source": [
    "c = torch.FloatTensor([20,1,2,3])\n",
    "print(c[0])\n",
    "print(c[0].item)\n",
    "print(c[0].item())\n",
    "c[1] = 2\n",
    "c[2:] = torch.FloatTensor([4.0,5.5])\n",
    "print(c)\n",
    "c[[1,3]] = 100\n",
    "print(c[1:])"
   ]
  },
  {
   "cell_type": "markdown",
   "metadata": {},
   "source": [
    "## Basic Operation"
   ]
  },
  {
   "cell_type": "code",
   "execution_count": 34,
   "metadata": {},
   "outputs": [
    {
     "name": "stdout",
     "output_type": "stream",
     "text": [
      "tensor([[1., 2.]])\n",
      "2\n",
      "torch.Size([1, 2])\n"
     ]
    }
   ],
   "source": [
    "print(torch.tensor([[1.0,2.0]]))\n",
    "print(torch.tensor([[1.0,2.0]]).ndimension())\n",
    "print(torch.tensor([[1.0,2.0]]).size())"
   ]
  },
  {
   "cell_type": "code",
   "execution_count": 37,
   "metadata": {},
   "outputs": [
    {
     "name": "stdout",
     "output_type": "stream",
     "text": [
      "tensor([[1.],\n",
      "        [0.]])\n",
      "tensor([[1., 2.]])\n",
      "tensor([[2., 3.],\n",
      "        [1., 2.]])\n",
      "tensor([[1., 2.],\n",
      "        [0., 0.]])\n",
      "tensor([[2.],\n",
      "        [1.]])\n",
      "tensor(1.)\n",
      "tensor([[1., 2.],\n",
      "        [0., 0.]])\n"
     ]
    }
   ],
   "source": [
    "u = torch.tensor([[1.0],\n",
    "                  [0.0]])\n",
    "v = torch.tensor([[1.0],\n",
    "                  [2.0]]).view(1,-1)\n",
    "print(u)\n",
    "print(v)\n",
    "u_1D = torch.tensor([1.0,0.0])\n",
    "v_1D = torch.tensor([1.0,2.0])\n",
    "print(u+v)\n",
    "print(u*v)\n",
    "print(u+1)#Adding a constant to tensor\n",
    "print(torch.dot(u_1D,v_1D))\n",
    "print(torch.mm(u,v))#2D內積"
   ]
  },
  {
   "cell_type": "markdown",
   "metadata": {},
   "source": [
    "# 1-2"
   ]
  },
  {
   "cell_type": "code",
   "execution_count": 91,
   "metadata": {},
   "outputs": [
    {
     "name": "stdout",
     "output_type": "stream",
     "text": [
      "   a  b\n",
      "0  1  3\n",
      "1  2  3\n",
      "--------------------------------------------------\n",
      "[[1 3]\n",
      " [2 3]]\n",
      "tensor([[1, 3],\n",
      "        [2, 3]])\n",
      "0\n",
      "1\n",
      "2\n",
      "tensor([2, 3])\n",
      "1\n"
     ]
    }
   ],
   "source": [
    "import pandas as pd\n",
    "df = pd.DataFrame({'a':[1,2],'b':[3,3]})\n",
    "print(df)\n",
    "print('-'*50)\n",
    "print(df.values)\n",
    "print(torch.tensor(df.values))\n",
    "\n",
    "#切割後維度改變\n",
    "print(torch.tensor(df.values)[0][0].ndimension())\n",
    "print(torch.tensor(df.values)[0].ndimension())\n",
    "print(torch.tensor(df.values)[0:].ndimension())\n",
    "print(torch.tensor(df.values)[0:][1])\n",
    "print(torch.tensor(df.values)[0:][1].ndimension())"
   ]
  },
  {
   "cell_type": "markdown",
   "metadata": {},
   "source": [
    "# 1-3"
   ]
  },
  {
   "cell_type": "code",
   "execution_count": 31,
   "metadata": {},
   "outputs": [
    {
     "name": "stdout",
     "output_type": "stream",
     "text": [
      "tensor(16., grad_fn=<MulBackward0>)\n",
      "tensor(2.)\n",
      "tensor(24.)\n"
     ]
    }
   ],
   "source": [
    "x = torch.tensor(2.0,requires_grad =True)\n",
    "y = 2*x**3\n",
    "#保留過去的梯度\n",
    "y.backward(retain_graph=True)\n",
    "print(y)\n",
    "print(x.data)\n",
    "print(x.grad)"
   ]
  },
  {
   "cell_type": "code",
   "execution_count": 30,
   "metadata": {},
   "outputs": [
    {
     "name": "stdout",
     "output_type": "stream",
     "text": [
      "tensor(9., grad_fn=<AddBackward0>)\n"
     ]
    },
    {
     "data": {
      "text/plain": [
       "tensor(6.)"
      ]
     },
     "execution_count": 30,
     "metadata": {},
     "output_type": "execute_result"
    }
   ],
   "source": [
    "x = torch.tensor(2.0,requires_grad =True)\n",
    "z = x**2+2*x+1\n",
    "z.backward()\n",
    "print(z)\n",
    "x.grad"
   ]
  },
  {
   "cell_type": "markdown",
   "metadata": {},
   "source": [
    "## Partial Derivative"
   ]
  },
  {
   "cell_type": "code",
   "execution_count": 24,
   "metadata": {},
   "outputs": [
    {
     "name": "stdout",
     "output_type": "stream",
     "text": [
      "tensor(3., grad_fn=<AddBackward0>)\n",
      "Partial Derivative(u): tensor(4.)\n",
      "Partial Derivative(v): tensor(1.)\n"
     ]
    }
   ],
   "source": [
    "u = torch.tensor(1.0,requires_grad =True)\n",
    "v = torch.tensor(2.0,requires_grad =True)\n",
    "\n",
    "f = u*v+u**2\n",
    "f.backward()\n",
    "print(f)\n",
    "print('Partial Derivative(u):',u.grad)\n",
    "print('Partial Derivative(v):',v.grad)"
   ]
  },
  {
   "cell_type": "markdown",
   "metadata": {},
   "source": [
    "# 1-4"
   ]
  },
  {
   "cell_type": "code",
   "execution_count": 2,
   "metadata": {},
   "outputs": [
    {
     "data": {
      "text/plain": [
       "<torch._C.Generator at 0x7fd4580b5f30>"
      ]
     },
     "execution_count": 2,
     "metadata": {},
     "output_type": "execute_result"
    }
   ],
   "source": [
    "import torch\n",
    "from torch.utils.data import Dataset\n",
    "torch.manual_seed(1)"
   ]
  },
  {
   "cell_type": "markdown",
   "metadata": {},
   "source": [
    "## DataSets"
   ]
  },
  {
   "cell_type": "code",
   "execution_count": 3,
   "metadata": {},
   "outputs": [
    {
     "data": {
      "text/plain": [
       "tensor([1., 1.])"
      ]
     },
     "execution_count": 3,
     "metadata": {},
     "output_type": "execute_result"
    }
   ],
   "source": [
    "torch.ones(10,2)[0]"
   ]
  },
  {
   "cell_type": "code",
   "execution_count": 4,
   "metadata": {},
   "outputs": [],
   "source": [
    "# Define class for dataset\n",
    "# datasets 必備 __init__ __getitem__ __len__\n",
    "class toy_set(Dataset):#繼承\n",
    "    # Constructor with defult values \n",
    "    def __init__(self, length = 100, transform = None):\n",
    "        self.len = length\n",
    "        #二維的tensor\n",
    "        self.x = 2 * torch.ones(length, 2)\n",
    "        self.y = torch.ones(length, 1)\n",
    "        self.transform = transform\n",
    "     \n",
    "    # Getter\n",
    "    def __getitem__(self, index):\n",
    "        sample = self.x[index], self.y[index]\n",
    "        if self.transform:\n",
    "            sample = self.transform(sample)     \n",
    "        return sample\n",
    "    \n",
    "    # Get Length\n",
    "    def __len__(self):\n",
    "        return self.len"
   ]
  },
  {
   "cell_type": "code",
   "execution_count": 6,
   "metadata": {},
   "outputs": [
    {
     "name": "stdout",
     "output_type": "stream",
     "text": [
      "a.x: tensor([[2., 2.],\n",
      "        [2., 2.],\n",
      "        [2., 2.],\n",
      "        [2., 2.],\n",
      "        [2., 2.],\n",
      "        [2., 2.],\n",
      "        [2., 2.],\n",
      "        [2., 2.],\n",
      "        [2., 2.],\n",
      "        [2., 2.]])\n",
      "a.y: tensor([[1.],\n",
      "        [1.],\n",
      "        [1.],\n",
      "        [1.],\n",
      "        [1.],\n",
      "        [1.],\n",
      "        [1.],\n",
      "        [1.],\n",
      "        [1.],\n",
      "        [1.]])\n",
      "(tensor([2., 2.]), tensor([1.]))\n",
      "tensor([2., 2.])\n",
      "10\n"
     ]
    }
   ],
   "source": [
    "a = toy_set(length=10)\n",
    "print('a.x:',a.x)\n",
    "print('a.y:',a.y)\n",
    "print(a[0])#__getitem__\n",
    "print(len(a))"
   ]
  },
  {
   "cell_type": "code",
   "execution_count": 43,
   "metadata": {},
   "outputs": [
    {
     "name": "stdout",
     "output_type": "stream",
     "text": [
      "index:  0 ; x: tensor([2., 2.]) ; y: tensor([1.])\n",
      "index:  1 ; x: tensor([2., 2.]) ; y: tensor([1.])\n",
      "index:  2 ; x: tensor([2., 2.]) ; y: tensor([1.])\n"
     ]
    }
   ],
   "source": [
    "for i in range(3):\n",
    "    x, y=a[i]\n",
    "    print(\"index: \", i, '; x:', x, '; y:', y)"
   ]
  },
  {
   "cell_type": "markdown",
   "metadata": {},
   "source": [
    "## Transforms"
   ]
  },
  {
   "cell_type": "code",
   "execution_count": 50,
   "metadata": {},
   "outputs": [],
   "source": [
    "#transforms 必備 __init__ __call__\n",
    "class add_mult(object):\n",
    "    \n",
    "    # Constructor\n",
    "    def __init__(self, addx = 1, muly = 2):\n",
    "        self.addx = addx\n",
    "        self.muly = muly\n",
    "    \n",
    "    # Executor\n",
    "    ##呼叫他會出什麼事\n",
    "    def __call__(self, sample):\n",
    "        print('出事')\n",
    "        x = sample[0]\n",
    "        y = sample[1]\n",
    "        x = x + self.addx\n",
    "        y = y * self.muly\n",
    "        sample = x, y\n",
    "        return x,y"
   ]
  },
  {
   "cell_type": "code",
   "execution_count": 51,
   "metadata": {},
   "outputs": [
    {
     "name": "stdout",
     "output_type": "stream",
     "text": [
      "<__main__.add_mult object at 0x7fcfd816ae10>\n",
      "<__main__.toy_set object at 0x7fcfd816add8>\n"
     ]
    }
   ],
   "source": [
    "a_m = add_mult()\n",
    "data_set = toy_set()\n",
    "print(a_m)\n",
    "print(data_set)"
   ]
  },
  {
   "cell_type": "markdown",
   "metadata": {},
   "source": [
    "### 使用Transform的兩種方法"
   ]
  },
  {
   "cell_type": "code",
   "execution_count": 52,
   "metadata": {},
   "outputs": [
    {
     "name": "stdout",
     "output_type": "stream",
     "text": [
      "Index:  0 Original x:  tensor([2., 2.]) Original y:  tensor([1.])\n",
      "出事\n",
      "Index:  0 Transformed x_: tensor([3., 3.]) Transformed y_: tensor([2.])\n",
      "Index:  1 Original x:  tensor([2., 2.]) Original y:  tensor([1.])\n",
      "出事\n",
      "Index:  1 Transformed x_: tensor([3., 3.]) Transformed y_: tensor([2.])\n",
      "Index:  2 Original x:  tensor([2., 2.]) Original y:  tensor([1.])\n",
      "出事\n",
      "Index:  2 Transformed x_: tensor([3., 3.]) Transformed y_: tensor([2.])\n",
      "Index:  3 Original x:  tensor([2., 2.]) Original y:  tensor([1.])\n",
      "出事\n",
      "Index:  3 Transformed x_: tensor([3., 3.]) Transformed y_: tensor([2.])\n",
      "Index:  4 Original x:  tensor([2., 2.]) Original y:  tensor([1.])\n",
      "出事\n",
      "Index:  4 Transformed x_: tensor([3., 3.]) Transformed y_: tensor([2.])\n",
      "Index:  5 Original x:  tensor([2., 2.]) Original y:  tensor([1.])\n",
      "出事\n",
      "Index:  5 Transformed x_: tensor([3., 3.]) Transformed y_: tensor([2.])\n",
      "Index:  6 Original x:  tensor([2., 2.]) Original y:  tensor([1.])\n",
      "出事\n",
      "Index:  6 Transformed x_: tensor([3., 3.]) Transformed y_: tensor([2.])\n",
      "Index:  7 Original x:  tensor([2., 2.]) Original y:  tensor([1.])\n",
      "出事\n",
      "Index:  7 Transformed x_: tensor([3., 3.]) Transformed y_: tensor([2.])\n",
      "Index:  8 Original x:  tensor([2., 2.]) Original y:  tensor([1.])\n",
      "出事\n",
      "Index:  8 Transformed x_: tensor([3., 3.]) Transformed y_: tensor([2.])\n",
      "Index:  9 Original x:  tensor([2., 2.]) Original y:  tensor([1.])\n",
      "出事\n",
      "Index:  9 Transformed x_: tensor([3., 3.]) Transformed y_: tensor([2.])\n"
     ]
    }
   ],
   "source": [
    "for i in range(10):\n",
    "    x, y = data_set[i]\n",
    "    print('Index: ', i, 'Original x: ', x, 'Original y: ', y)\n",
    "    x_, y_ = a_m(data_set[i])\n",
    "    print('Index: ', i, 'Transformed x_:', x_, 'Transformed y_:', y_)"
   ]
  },
  {
   "cell_type": "code",
   "execution_count": 165,
   "metadata": {},
   "outputs": [],
   "source": [
    "# Create a new data_set object with add_mult object as transform\n",
    "\n",
    "cust_data_set = toy_set(transform = a_m)"
   ]
  },
  {
   "cell_type": "code",
   "execution_count": 166,
   "metadata": {},
   "outputs": [
    {
     "name": "stdout",
     "output_type": "stream",
     "text": [
      "Index:  0 Original x:  tensor([2., 2.]) Original y:  tensor([1.])\n",
      "Index:  0 Transformed x_: tensor([3., 3.]) Transformed y_: tensor([2.])\n",
      "Index:  1 Original x:  tensor([2., 2.]) Original y:  tensor([1.])\n",
      "Index:  1 Transformed x_: tensor([3., 3.]) Transformed y_: tensor([2.])\n",
      "Index:  2 Original x:  tensor([2., 2.]) Original y:  tensor([1.])\n",
      "Index:  2 Transformed x_: tensor([3., 3.]) Transformed y_: tensor([2.])\n",
      "Index:  3 Original x:  tensor([2., 2.]) Original y:  tensor([1.])\n",
      "Index:  3 Transformed x_: tensor([3., 3.]) Transformed y_: tensor([2.])\n",
      "Index:  4 Original x:  tensor([2., 2.]) Original y:  tensor([1.])\n",
      "Index:  4 Transformed x_: tensor([3., 3.]) Transformed y_: tensor([2.])\n",
      "Index:  5 Original x:  tensor([2., 2.]) Original y:  tensor([1.])\n",
      "Index:  5 Transformed x_: tensor([3., 3.]) Transformed y_: tensor([2.])\n",
      "Index:  6 Original x:  tensor([2., 2.]) Original y:  tensor([1.])\n",
      "Index:  6 Transformed x_: tensor([3., 3.]) Transformed y_: tensor([2.])\n",
      "Index:  7 Original x:  tensor([2., 2.]) Original y:  tensor([1.])\n",
      "Index:  7 Transformed x_: tensor([3., 3.]) Transformed y_: tensor([2.])\n",
      "Index:  8 Original x:  tensor([2., 2.]) Original y:  tensor([1.])\n",
      "Index:  8 Transformed x_: tensor([3., 3.]) Transformed y_: tensor([2.])\n",
      "Index:  9 Original x:  tensor([2., 2.]) Original y:  tensor([1.])\n",
      "Index:  9 Transformed x_: tensor([3., 3.]) Transformed y_: tensor([2.])\n"
     ]
    }
   ],
   "source": [
    "for i in range(10):\n",
    "    x, y = data_set[i]\n",
    "    print('Index: ', i, 'Original x: ', x, 'Original y: ', y)\n",
    "    x_, y_ = cust_data_set[i]\n",
    "    print('Index: ', i, 'Transformed x_:', x_, 'Transformed y_:', y_)"
   ]
  },
  {
   "cell_type": "code",
   "execution_count": 21,
   "metadata": {},
   "outputs": [],
   "source": [
    "x = torch.tensor(3.0,requires_grad=True)\n",
    "y = x**4\n",
    "z = y**2"
   ]
  },
  {
   "cell_type": "code",
   "execution_count": 17,
   "metadata": {},
   "outputs": [],
   "source": [
    "z.backward()"
   ]
  },
  {
   "cell_type": "code",
   "execution_count": 18,
   "metadata": {},
   "outputs": [],
   "source": [
    "y.grad"
   ]
  },
  {
   "cell_type": "code",
   "execution_count": 19,
   "metadata": {},
   "outputs": [
    {
     "data": {
      "text/plain": [
       "tensor(17496.)"
      ]
     },
     "execution_count": 19,
     "metadata": {},
     "output_type": "execute_result"
    }
   ],
   "source": [
    "x.grad"
   ]
  },
  {
   "cell_type": "code",
   "execution_count": 22,
   "metadata": {},
   "outputs": [
    {
     "data": {
      "text/plain": [
       "tensor(108.)"
      ]
     },
     "execution_count": 22,
     "metadata": {},
     "output_type": "execute_result"
    }
   ],
   "source": [
    "y.backward()\n",
    "x.grad"
   ]
  },
  {
   "cell_type": "code",
   "execution_count": 39,
   "metadata": {},
   "outputs": [
    {
     "data": {
      "text/html": [
       "<div>\n",
       "<style scoped>\n",
       "    .dataframe tbody tr th:only-of-type {\n",
       "        vertical-align: middle;\n",
       "    }\n",
       "\n",
       "    .dataframe tbody tr th {\n",
       "        vertical-align: top;\n",
       "    }\n",
       "\n",
       "    .dataframe thead th {\n",
       "        text-align: right;\n",
       "    }\n",
       "</style>\n",
       "<table border=\"1\" class=\"dataframe\">\n",
       "  <thead>\n",
       "    <tr style=\"text-align: right;\">\n",
       "      <th></th>\n",
       "      <th>a</th>\n",
       "    </tr>\n",
       "  </thead>\n",
       "  <tbody>\n",
       "    <tr>\n",
       "      <th>0</th>\n",
       "      <td>1</td>\n",
       "    </tr>\n",
       "    <tr>\n",
       "      <th>1</th>\n",
       "      <td>2</td>\n",
       "    </tr>\n",
       "    <tr>\n",
       "      <th>2</th>\n",
       "      <td>3</td>\n",
       "    </tr>\n",
       "  </tbody>\n",
       "</table>\n",
       "</div>"
      ],
      "text/plain": [
       "   a\n",
       "0  1\n",
       "1  2\n",
       "2  3"
      ]
     },
     "execution_count": 39,
     "metadata": {},
     "output_type": "execute_result"
    }
   ],
   "source": [
    "import pandas as pd\n",
    "a = pd.DataFrame({})\n",
    "b = pd.DataFrame({'a':[1,2,3]})\n",
    "pd.concat([a,b],axis=1)"
   ]
  },
  {
   "cell_type": "code",
   "execution_count": 41,
   "metadata": {},
   "outputs": [
    {
     "data": {
      "text/html": [
       "<div>\n",
       "<style scoped>\n",
       "    .dataframe tbody tr th:only-of-type {\n",
       "        vertical-align: middle;\n",
       "    }\n",
       "\n",
       "    .dataframe tbody tr th {\n",
       "        vertical-align: top;\n",
       "    }\n",
       "\n",
       "    .dataframe thead th {\n",
       "        text-align: right;\n",
       "    }\n",
       "</style>\n",
       "<table border=\"1\" class=\"dataframe\">\n",
       "  <thead>\n",
       "    <tr style=\"text-align: right;\">\n",
       "      <th></th>\n",
       "      <th>a</th>\n",
       "    </tr>\n",
       "  </thead>\n",
       "  <tbody>\n",
       "    <tr>\n",
       "      <th>0</th>\n",
       "      <td>1</td>\n",
       "    </tr>\n",
       "    <tr>\n",
       "      <th>1</th>\n",
       "      <td>2</td>\n",
       "    </tr>\n",
       "    <tr>\n",
       "      <th>2</th>\n",
       "      <td>3</td>\n",
       "    </tr>\n",
       "  </tbody>\n",
       "</table>\n",
       "</div>"
      ],
      "text/plain": [
       "   a\n",
       "0  1\n",
       "1  2\n",
       "2  3"
      ]
     },
     "execution_count": 41,
     "metadata": {},
     "output_type": "execute_result"
    }
   ],
   "source": [
    "b"
   ]
  },
  {
   "cell_type": "code",
   "execution_count": null,
   "metadata": {},
   "outputs": [],
   "source": []
  }
 ],
 "metadata": {
  "kernelspec": {
   "display_name": "DL",
   "language": "python",
   "name": "dl"
  },
  "language_info": {
   "codemirror_mode": {
    "name": "ipython",
    "version": 3
   },
   "file_extension": ".py",
   "mimetype": "text/x-python",
   "name": "python",
   "nbconvert_exporter": "python",
   "pygments_lexer": "ipython3",
   "version": "3.6.13"
  }
 },
 "nbformat": 4,
 "nbformat_minor": 4
}
