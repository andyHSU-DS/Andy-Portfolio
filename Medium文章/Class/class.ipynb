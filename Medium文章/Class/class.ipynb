{
 "cells": [
  {
   "cell_type": "code",
   "execution_count": 2,
   "metadata": {},
   "outputs": [],
   "source": [
    "class B_League:\n",
    "    def __init__(self, team_player = 15):\n",
    "        self.Sport       = 'BasketBall'\n",
    "        self.team_player = team_player\n",
    "        self.President   = 'Black Man'\n",
    "\n",
    "    def get_team_player(self):\n",
    "        return self.team_player\n",
    "    \n",
    "    def League_Info(self, show = True):\n",
    "        if show:\n",
    "            self.President = self.President \n",
    "            return self.President\n",
    "        else:\n",
    "            self.President = 'No show'\n",
    "            print('False')\n",
    "            return None\n",
    "\n",
    "class B_League_Team_Son(B_League):\n",
    "    pass\n",
    "\n",
    "class B_League_Team(B_League):\n",
    "    def __init__(self, Team_Name, Team_Player):\n",
    "        super().__init__(Team_Player)\n",
    "        self.Team_Name = Team_Name\n",
    "        self.Team_Player = Team_Player\n",
    "\n",
    "    def get_team_player(self, **Change):\n",
    "        super().get_team_player()\n",
    "        print(self.team_player)\n",
    "        for x,y in Change.items():\n",
    "            print(x)\n",
    "            print(y)\n",
    "            if x in ['waive','unsigned']:\n",
    "                self.team_player -= len(y)\n",
    "            elif x in ['sign']:\n",
    "                self.team_player += len(y)\n",
    "        return self.team_player, self.Team_Player\n",
    "\n",
    "    def Team_Info(self, Boss, show = False):\n",
    "        super().League_Info(show)\n",
    "        return {'President':self.President, 'Boss': Boss, 'Team_Player':self.team_player}"
   ]
  },
  {
   "cell_type": "code",
   "execution_count": 4,
   "metadata": {},
   "outputs": [
    {
     "data": {
      "text/plain": [
       "'BasketBall'"
      ]
     },
     "execution_count": 4,
     "metadata": {},
     "output_type": "execute_result"
    }
   ],
   "source": [
    "b = B_League_Team_Son()\n",
    "b.Sport"
   ]
  },
  {
   "cell_type": "code",
   "execution_count": null,
   "metadata": {},
   "outputs": [],
   "source": []
  }
 ],
 "metadata": {
  "interpreter": {
   "hash": "40d3a090f54c6569ab1632332b64b2c03c39dcf918b08424e98f38b5ae0af88f"
  },
  "kernelspec": {
   "display_name": "Python 3.8.5 ('base')",
   "language": "python",
   "name": "python3"
  },
  "language_info": {
   "codemirror_mode": {
    "name": "ipython",
    "version": 3
   },
   "file_extension": ".py",
   "mimetype": "text/x-python",
   "name": "python",
   "nbconvert_exporter": "python",
   "pygments_lexer": "ipython3",
   "version": "3.8.5"
  },
  "orig_nbformat": 4
 },
 "nbformat": 4,
 "nbformat_minor": 2
}
