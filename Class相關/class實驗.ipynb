{
 "cells": [
  {
   "cell_type": "code",
   "execution_count": 16,
   "metadata": {},
   "outputs": [
    {
     "name": "stdout",
     "output_type": "stream",
     "text": [
      "--------------------------------------------------\n",
      "aaaa\n",
      "bbbb\n",
      "--------------------------------------------------\n"
     ]
    },
    {
     "ename": "TypeError",
     "evalue": "__init__() missing 2 required positional arguments: 'team_name' and 'target_team'",
     "output_type": "error",
     "traceback": [
      "\u001b[0;31m---------------------------------------------------------------------------\u001b[0m",
      "\u001b[0;31mTypeError\u001b[0m                                 Traceback (most recent call last)",
      "\u001b[0;32m<ipython-input-16-430459611f7a>\u001b[0m in \u001b[0;36m<module>\u001b[0;34m\u001b[0m\n\u001b[1;32m     18\u001b[0m \u001b[0;34m\u001b[0m\u001b[0m\n\u001b[1;32m     19\u001b[0m \u001b[0;34m\u001b[0m\u001b[0m\n\u001b[0;32m---> 20\u001b[0;31m \u001b[0mb\u001b[0m \u001b[0;34m=\u001b[0m \u001b[0mPLG_Graph\u001b[0m\u001b[0;34m(\u001b[0m\u001b[0mdf\u001b[0m\u001b[0;34m=\u001b[0m\u001b[0;34m'a'\u001b[0m\u001b[0;34m)\u001b[0m\u001b[0;34m\u001b[0m\u001b[0;34m\u001b[0m\u001b[0m\n\u001b[0m\u001b[1;32m     21\u001b[0m \u001b[0mprint\u001b[0m\u001b[0;34m(\u001b[0m\u001b[0mb\u001b[0m\u001b[0;34m.\u001b[0m\u001b[0mname\u001b[0m\u001b[0;34m)\u001b[0m\u001b[0;31m#這個很重要\u001b[0m\u001b[0;34m\u001b[0m\u001b[0;34m\u001b[0m\u001b[0m\n\u001b[1;32m     22\u001b[0m \u001b[0mprint\u001b[0m\u001b[0;34m(\u001b[0m\u001b[0mb\u001b[0m\u001b[0;34m.\u001b[0m\u001b[0mtarget_team\u001b[0m\u001b[0;34m)\u001b[0m\u001b[0;34m\u001b[0m\u001b[0;34m\u001b[0m\u001b[0m\n",
      "\u001b[0;32m<ipython-input-16-430459611f7a>\u001b[0m in \u001b[0;36m__init__\u001b[0;34m(self, df)\u001b[0m\n\u001b[1;32m      9\u001b[0m     \u001b[0;31m#這邊不用新增team_name及target_name參數\u001b[0m\u001b[0;34m\u001b[0m\u001b[0;34m\u001b[0m\u001b[0;34m\u001b[0m\u001b[0m\n\u001b[1;32m     10\u001b[0m     \u001b[0;32mdef\u001b[0m \u001b[0m__init__\u001b[0m\u001b[0;34m(\u001b[0m\u001b[0mself\u001b[0m\u001b[0;34m,\u001b[0m\u001b[0mdf\u001b[0m\u001b[0;34m)\u001b[0m\u001b[0;34m:\u001b[0m\u001b[0;34m\u001b[0m\u001b[0;34m\u001b[0m\u001b[0m\n\u001b[0;32m---> 11\u001b[0;31m         \u001b[0msuper\u001b[0m\u001b[0;34m(\u001b[0m\u001b[0;34m)\u001b[0m\u001b[0;34m.\u001b[0m\u001b[0m__init__\u001b[0m\u001b[0;34m(\u001b[0m\u001b[0;34m)\u001b[0m\u001b[0;34m\u001b[0m\u001b[0;34m\u001b[0m\u001b[0m\n\u001b[0m\u001b[1;32m     12\u001b[0m         \u001b[0mself\u001b[0m\u001b[0;34m.\u001b[0m\u001b[0mdf\u001b[0m  \u001b[0;34m=\u001b[0m \u001b[0mdf\u001b[0m\u001b[0;34m\u001b[0m\u001b[0;34m\u001b[0m\u001b[0m\n\u001b[1;32m     13\u001b[0m \u001b[0mprint\u001b[0m\u001b[0;34m(\u001b[0m\u001b[0;34m'-'\u001b[0m\u001b[0;34m*\u001b[0m\u001b[0;36m50\u001b[0m\u001b[0;34m)\u001b[0m\u001b[0;34m\u001b[0m\u001b[0;34m\u001b[0m\u001b[0m\n",
      "\u001b[0;31mTypeError\u001b[0m: __init__() missing 2 required positional arguments: 'team_name' and 'target_team'"
     ]
    }
   ],
   "source": [
    "#這個error要細看#當我不想在子類別中設定team_name及target_team，而是完全參照父類時\n",
    "class PLG:\n",
    "    #定義隊名跟url\n",
    "    def __init__(self,team_name,target_team):\n",
    "        self.name             = team_name\n",
    "        self.target_team      = target_team\n",
    "\n",
    "class PLG_Graph(PLG):\n",
    "    #這邊不用新增team_name及target_name參數\n",
    "    def __init__(self,df):\n",
    "        super().__init__()\n",
    "        self.df  = df\n",
    "print('-'*50)\n",
    "a = PLG('aaaa','bbbb')\n",
    "print(a.name)\n",
    "print(a.target_team)\n",
    "print('-'*50)\n",
    "\n",
    "\n",
    "b = PLG_Graph(df='a')\n",
    "print(b.name)#這個很重要\n",
    "print(b.target_team)\n",
    "print(b.df)\n",
    "print('-'*50)"
   ]
  },
  {
   "cell_type": "code",
   "execution_count": null,
   "metadata": {},
   "outputs": [],
   "source": [
    "#和上一個對比\n",
    "# #if想在子類別中設定team_name及target_team\n",
    "class PLG:\n",
    "    #定義隊名跟url\n",
    "    def __init__(self,team_name ,target_team):\n",
    "        self.name             = team_name\n",
    "        self.target_team      = target_team\n",
    "\n",
    "class PLG_Graph(PLG):\n",
    "    #這邊不用新增team_name及target_name參數\n",
    "    def __init__(self,df,team_name,target_team):\n",
    "        #這邊有沒有填至關重大\n",
    "        super().__init__(team_name,target_team)\n",
    "        self.df  = df\n",
    "print('-'*50)\n",
    "a = PLG('aaaa','bbb')\n",
    "print(a.name)\n",
    "print(a.target_team)\n",
    "print('-'*50)\n",
    "\n",
    "\n",
    "b = PLG_Graph(df='a',team_name='b team',target_team='b rival team')\n",
    "print(b.name)#這個很重要\n",
    "print(b.target_team)\n",
    "print(b.df)\n",
    "print('-'*50)"
   ]
  },
  {
   "cell_type": "code",
   "execution_count": 15,
   "metadata": {},
   "outputs": [
    {
     "name": "stdout",
     "output_type": "stream",
     "text": [
      "--------------------------------------------------\n",
      "aaaa\n",
      "夢想家\n",
      "--------------------------------------------------\n",
      "鋼鐵人\n",
      "夢想家\n",
      "a\n",
      "--------------------------------------------------\n"
     ]
    }
   ],
   "source": [
    "#當我不想在子類別中設定team_name及target_team，而是完全參照父類時\n",
    "class PLG:\n",
    "    #定義隊名跟url\n",
    "    def __init__(self,team_name = '鋼鐵人',target_team = '夢想家'):\n",
    "        self.name             = team_name\n",
    "        self.target_team      = target_team\n",
    "\n",
    "class PLG_Graph(PLG):\n",
    "    #這邊不用新增team_name及target_name參數\n",
    "    def __init__(self,df):\n",
    "        super().__init__()\n",
    "        self.df  = df\n",
    "print('-'*50)\n",
    "a = PLG('aaaa')\n",
    "print(a.name)\n",
    "print(a.target_team)\n",
    "print('-'*50)\n",
    "\n",
    "\n",
    "b = PLG_Graph(df='a')\n",
    "print(b.name)#這個很重要\n",
    "print(b.target_team)\n",
    "print(b.df)\n",
    "print('-'*50)"
   ]
  },
  {
   "cell_type": "code",
   "execution_count": 6,
   "metadata": {},
   "outputs": [
    {
     "name": "stdout",
     "output_type": "stream",
     "text": [
      "--------------------------------------------------\n",
      "aaaa\n",
      "夢想家\n",
      "--------------------------------------------------\n",
      "b team\n",
      "b rival team\n",
      "a\n",
      "--------------------------------------------------\n"
     ]
    }
   ],
   "source": [
    "#if想在子類別中設定team_name及target_team\n",
    "class PLG:\n",
    "    #定義隊名跟url\n",
    "    def __init__(self,team_name = '鋼鐵人',target_team = '夢想家'):\n",
    "        self.name             = team_name\n",
    "        self.target_team      = target_team\n",
    "\n",
    "class PLG_Graph(PLG):\n",
    "    #這邊不用新增team_name及target_name參數\n",
    "    def __init__(self,df,team_name,target_team):\n",
    "        super().__init__(team_name,target_team)\n",
    "        self.df  = df\n",
    "print('-'*50)\n",
    "a = PLG('aaaa')\n",
    "print(a.name)\n",
    "print(a.target_team)\n",
    "print('-'*50)\n",
    "\n",
    "\n",
    "b = PLG_Graph(df='a',team_name='b team',target_team='b rival team')\n",
    "print(b.name)#這個很重要\n",
    "print(b.target_team)\n",
    "print(b.df)\n",
    "print('-'*50)"
   ]
  },
  {
   "cell_type": "code",
   "execution_count": 8,
   "metadata": {},
   "outputs": [
    {
     "name": "stdout",
     "output_type": "stream",
     "text": [
      "--------------------------------------------------\n",
      "aaaa\n",
      "夢想家\n",
      "--------------------------------------------------\n",
      "b team\n",
      "夢想家\n",
      "a\n",
      "--------------------------------------------------\n"
     ]
    }
   ],
   "source": [
    "#if想在子類別中設定team_name及target_team\n",
    "class PLG:\n",
    "    #定義隊名跟url\n",
    "    def __init__(self,team_name = '鋼鐵人',target_team = '夢想家'):\n",
    "        self.name             = team_name\n",
    "        self.target_team      = target_team\n",
    "\n",
    "class PLG_Graph(PLG):\n",
    "    #這邊不用新增team_name及target_name參數\n",
    "    def __init__(self,df,team_name,target_team):\n",
    "        #這邊有沒有填至關重大\n",
    "        super().__init__(team_name)\n",
    "        self.df  = df\n",
    "print('-'*50)\n",
    "a = PLG('aaaa')\n",
    "print(a.name)\n",
    "print(a.target_team)\n",
    "print('-'*50)\n",
    "\n",
    "\n",
    "b = PLG_Graph(df='a',team_name='b team',target_team='b rival team')\n",
    "print(b.name)#這個很重要\n",
    "print(b.target_team)\n",
    "print(b.df)\n",
    "print('-'*50)"
   ]
  },
  {
   "cell_type": "code",
   "execution_count": 18,
   "metadata": {},
   "outputs": [
    {
     "name": "stdout",
     "output_type": "stream",
     "text": [
      "--------------------------------------------------\n",
      "aaaa\n",
      "bbb\n",
      "--------------------------------------------------\n",
      "b team\n",
      "b rival team\n",
      "a\n",
      "--------------------------------------------------\n"
     ]
    }
   ],
   "source": []
  },
  {
   "cell_type": "code",
   "execution_count": null,
   "metadata": {},
   "outputs": [],
   "source": []
  }
 ],
 "metadata": {
  "interpreter": {
   "hash": "40d3a090f54c6569ab1632332b64b2c03c39dcf918b08424e98f38b5ae0af88f"
  },
  "kernelspec": {
   "display_name": "Python 3.8.5 ('base')",
   "language": "python",
   "name": "python3"
  },
  "language_info": {
   "codemirror_mode": {
    "name": "ipython",
    "version": 3
   },
   "file_extension": ".py",
   "mimetype": "text/x-python",
   "name": "python",
   "nbconvert_exporter": "python",
   "pygments_lexer": "ipython3",
   "version": "3.8.5"
  },
  "orig_nbformat": 4
 },
 "nbformat": 4,
 "nbformat_minor": 2
}
